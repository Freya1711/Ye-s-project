{
 "cells": [
  {
   "cell_type": "markdown",
   "metadata": {},
   "source": [
    "# QF620 Project Group 5 Part 4"
   ]
  },
  {
   "cell_type": "code",
   "execution_count": 1,
   "metadata": {},
   "outputs": [],
   "source": [
    "import numpy as np\n",
    "import pandas as pd\n",
    "from scipy.stats import norm\n",
    "import matplotlib.pyplot as plt"
   ]
  },
  {
   "cell_type": "code",
   "execution_count": 2,
   "metadata": {},
   "outputs": [],
   "source": [
    "pd.options.display.max_rows = 999"
   ]
  },
  {
   "cell_type": "markdown",
   "metadata": {},
   "source": [
    "# Part 4 (Dynamic Hedging)"
   ]
  },
  {
   "cell_type": "code",
   "execution_count": 3,
   "metadata": {},
   "outputs": [],
   "source": [
    "S = 100\n",
    "sigma = 0.2\n",
    "r = 0.05\n",
    "T = 1/12\n",
    "K = 100\n",
    "\n",
    "steps = 84\n",
    "sim = 50000"
   ]
  },
  {
   "cell_type": "code",
   "execution_count": 4,
   "metadata": {},
   "outputs": [],
   "source": [
    "def BlackScholesCall(S, K, r, sigma, T):\n",
    "    d1 = (np.log(S/K)+(r+sigma**2/2)*T) / (sigma*np.sqrt(T))\n",
    "    d2 = d1 - sigma*np.sqrt(T)\n",
    "    return S*norm.cdf(d1) - K*np.exp(-r*T)*norm.cdf(d2)"
   ]
  },
  {
   "cell_type": "code",
   "execution_count": 5,
   "metadata": {},
   "outputs": [],
   "source": [
    "c_0 = BlackScholesCall(S, K, r, sigma, T)"
   ]
  },
  {
   "cell_type": "code",
   "execution_count": 6,
   "metadata": {},
   "outputs": [],
   "source": [
    "def simulate_Brownian_Motion(paths, steps, T):\n",
    "    deltaT = T/steps\n",
    "    t = np.linspace(0, T, steps+1)\n",
    "    X = np.c_[np.zeros((paths, 1)),\n",
    "              np.random.randn(paths, steps)]\n",
    "    return t, np.cumsum(np.sqrt(deltaT) * X, axis=1)"
   ]
  },
  {
   "cell_type": "code",
   "execution_count": 7,
   "metadata": {},
   "outputs": [],
   "source": [
    "def black_scholes_model_simulator(S, K, r, sigma, T, paths, steps):\n",
    "    St = []\n",
    "    t, W = simulate_Brownian_Motion(paths, steps, T)\n",
    "    W = W.T\n",
    "    for i in np.arange(steps+1):\n",
    "        St.append(S*np.exp((r - 0.5*(sigma**2))*t[i] + sigma*W[i]))\n",
    "    return t, St"
   ]
  },
  {
   "cell_type": "code",
   "execution_count": 8,
   "metadata": {},
   "outputs": [],
   "source": [
    "def delta_psiBt(St, K, r, sigma, T, t):\n",
    "    d1 = (np.log(St/K) + (r + 0.5*sigma**2)*(T-t))/(sigma*np.sqrt(T-t))\n",
    "    d2 = d1 - sigma*np.sqrt(T-t)\n",
    "    delta = norm.cdf(d1)\n",
    "    psiBt = -K * np.exp(-r*(T-t)) * norm.cdf(d2)\n",
    "    \n",
    "    return delta, psiBt"
   ]
  },
  {
   "cell_type": "code",
   "execution_count": 9,
   "metadata": {},
   "outputs": [],
   "source": [
    "def results(S, K, r, sigma, T, sim, steps):\n",
    "    t, St = black_scholes_model_simulator(S, K, r, sigma, T, sim, steps)\n",
    "    \n",
    "    St = np.array(St)\n",
    "    S_minus_K = np.maximum(St-K, 0)\n",
    "    Bt = np.exp(r*(t))\n",
    "    \n",
    "    delta, psiBt = delta_psiBt(St.T, K, r, sigma, T, t.T)\n",
    "    \n",
    "    ## add here\n",
    "    \n",
    "    St_diff = St[1:,:] - St[:-1, :]\n",
    "    Bt_diff = Bt[1:]-Bt[:-1]\n",
    "    \n",
    "    replication = delta.T[:-1, :] * St_diff + psiBt.T[:-1, :] * Bt_diff.reshape(len(Bt_diff), 1)\n",
    "    hedge = replication.sum(axis = 0)\n",
    "    \n",
    "    pnl = hedge - S_minus_K[-1] + c_0\n",
    "    \n",
    "    plt.plot(figsize = (10,8))\n",
    "    plt.hist(pnl, bins = 50, range = [-2,2], align='mid')\n",
    "    plt.xlabel('Final P&L')\n",
    "    plt.ylabel('Count')\n",
    "    plt.title('Histogram for final P&L of hedging strategy for %.0f rebalancing trades' %steps)\n",
    "    plt.show();"
   ]
  },
  {
   "cell_type": "code",
   "execution_count": 10,
   "metadata": {},
   "outputs": [
    {
     "name": "stderr",
     "output_type": "stream",
     "text": [
      "<ipython-input-8-5ab59a7325ec>:2: RuntimeWarning: divide by zero encountered in true_divide\n",
      "  d1 = (np.log(St/K) + (r + 0.5*sigma**2)*(T-t))/(sigma*np.sqrt(T-t))\n"
     ]
    },
    {
     "data": {
      "image/png": "[encoded data removed]",
      "text/plain": [
       "<Figure size 432x288 with 1 Axes>"
      ]
     },
     "metadata": {
      "needs_background": "light"
     },
     "output_type": "display_data"
    },
    {
     "data": {
      "image/png": "[encoded data removed]",
      "text/plain": [
       "<Figure size 432x288 with 1 Axes>"
      ]
     },
     "metadata": {
      "needs_background": "light"
     },
     "output_type": "display_data"
    }
   ],
   "source": [
    "for steps in [21, 84]:\n",
    "    results(S, K, r, sigma, T, sim, steps)"
   ]
  },
  {
   "cell_type": "code",
   "execution_count": null,
   "metadata": {},
   "outputs": [],
   "source": []
  }
 ],
 "metadata": {
  "kernelspec": {
   "display_name": "Python 3",
   "language": "python",
   "name": "python3"
  },
  "language_info": {
   "codemirror_mode": {
    "name": "ipython",
    "version": 3
   },
   "file_extension": ".py",
   "mimetype": "text/x-python",
   "name": "python",
   "nbconvert_exporter": "python",
   "pygments_lexer": "ipython3",
   "version": "3.8.3"
  }
 },
 "nbformat": 4,
 "nbformat_minor": 4
}
