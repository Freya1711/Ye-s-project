{
 "cells": [
  {
   "cell_type": "markdown",
   "metadata": {},
   "source": [
    "# QF620 Project Group 5 Part 2"
   ]
  },
  {
   "cell_type": "code",
   "execution_count": 1,
   "metadata": {},
   "outputs": [],
   "source": [
    "import numpy as np\n",
    "import pandas as pd\n",
    "from scipy.stats import norm\n",
    "import matplotlib.pyplot as plt"
   ]
  },
  {
   "cell_type": "code",
   "execution_count": 2,
   "metadata": {},
   "outputs": [],
   "source": [
    "pd.options.display.max_rows = 999"
   ]
  },
  {
   "cell_type": "markdown",
   "metadata": {},
   "source": [
    "# Part 1 (Analytical Option Formulae)"
   ]
  },
  {
   "cell_type": "markdown",
   "metadata": {},
   "source": [
    "## Black-Scholes Formula"
   ]
  },
  {
   "cell_type": "markdown",
   "metadata": {},
   "source": [
    "Black-Scholes formula (Vanilla Call)\n",
    "\n",
    "\\begin{equation}\n",
    "\\begin{split}\n",
    "C(S_0,K,r,\\sigma,T) &= S_0 \\Phi(d_1) - K e^{-rT} \\Phi(d_2)\\\\\n",
    "\\end{split}            \n",
    "\\end{equation}"
   ]
  },
  {
   "cell_type": "code",
   "execution_count": 3,
   "metadata": {},
   "outputs": [],
   "source": [
    "def BlackScholesCall(S, K, r, sigma, T):\n",
    "    d1 = (np.log(S/K)+(r+sigma**2/2)*T) / (sigma*np.sqrt(T))\n",
    "    d2 = d1 - sigma*np.sqrt(T)\n",
    "    return S*norm.cdf(d1) - K*np.exp(-r*T)*norm.cdf(d2)"
   ]
  },
  {
   "cell_type": "markdown",
   "metadata": {},
   "source": [
    "Black-Scholes formula (Vanilla Put)\n",
    "\n",
    "\\begin{equation}\n",
    "\\begin{split}\n",
    "P(S_0,K,r,\\sigma,T) &= K e^{-rT} \\Phi(-d_2) - S_0 \\Phi(-d_1)\\\\\n",
    "\\end{split}            \n",
    "\\end{equation}"
   ]
  },
  {
   "cell_type": "code",
   "execution_count": 4,
   "metadata": {},
   "outputs": [],
   "source": [
    "def BlackScholesPut(S, K, r, sigma, T):\n",
    "    d1 = (np.log(S/K)+(r+sigma**2/2)*T) / (sigma*np.sqrt(T))\n",
    "    d2 = d1 - sigma*np.sqrt(T)\n",
    "    return K*np.exp(-r*T)*norm.cdf(-d2) - S*norm.cdf(-d1)"
   ]
  },
  {
   "cell_type": "markdown",
   "metadata": {},
   "source": [
    "Where:\n",
    "\\begin{equation}\n",
    "\\begin{split}\n",
    "            d_1 &= \\frac{\\log \\frac{S_0}{K} +\n",
    "            \\left(r+\\frac{\\sigma^2}{2}\\right)T}{\\sigma\\sqrt{T}}, \\hspace{2cm} d_2 = d_1 - \\sigma\\sqrt{T}\\\\\n",
    "\\end{split}            \n",
    "\\end{equation}"
   ]
  },
  {
   "cell_type": "markdown",
   "metadata": {},
   "source": [
    "## Bachelier Model"
   ]
  },
  {
   "cell_type": "markdown",
   "metadata": {},
   "source": [
    "Bachelier formula (Vanilla Call)\n",
    "\n",
    "\\begin{equation}\n",
    "\\begin{split}\n",
    "C(S_0,K,r,\\sigma,T) &= \\big[(S_0 - K) \\Phi(d_1) + \\sigma S_0 \\sqrt{T}\\phi(d_1) \\big]\\\\\n",
    "\\end{split}            \n",
    "\\end{equation}"
   ]
  },
  {
   "cell_type": "code",
   "execution_count": 5,
   "metadata": {},
   "outputs": [],
   "source": [
    "def BachelierCall(S, K, r, sigma, T):\n",
    "    d1 = (S-K)/(sigma*S*np.sqrt(T))\n",
    "    return ((S-K)*norm.cdf(d1) + sigma*S*np.sqrt(T)*norm.pdf(d1))\n"
   ]
  },
  {
   "cell_type": "markdown",
   "metadata": {},
   "source": [
    "Bachelier formula (Vanilla Put)\n",
    "\n",
    "\\begin{equation}\n",
    "\\begin{split}\n",
    "P(S_0,K,r,\\sigma,T) &= \\big[(K - S_0) \\Phi(-d_1) + \\sigma S_0 \\sqrt{T}\\phi(d_1)\\big]\\\\\n",
    "\\end{split}            \n",
    "\\end{equation}"
   ]
  },
  {
   "cell_type": "code",
   "execution_count": 6,
   "metadata": {},
   "outputs": [],
   "source": [
    "def BachelierPut(S, K, r, sigma, T):\n",
    "    d1 = (S-K)/(sigma*S*np.sqrt(T))\n",
    "    return ((K-S)*norm.cdf(-d1) + sigma*S*np.sqrt(T)*norm.pdf(d1))\n"
   ]
  },
  {
   "cell_type": "markdown",
   "metadata": {},
   "source": [
    "Where:\n",
    "\\begin{equation}\n",
    "\\begin{split}\n",
    "            d_1 &= \\frac{S_0 - K}{\\sigma S_0 \\sqrt{T}}\\\\\n",
    "\\end{split}            \n",
    "\\end{equation}"
   ]
  },
  {
   "cell_type": "markdown",
   "metadata": {},
   "source": [
    "## Black76 Model"
   ]
  },
  {
   "cell_type": "markdown",
   "metadata": {},
   "source": [
    "Black76 formula (Vanilla Call)\n",
    "\n",
    "\\begin{equation}\n",
    "\\begin{split}\n",
    "C(F_0,K,r,\\sigma,T) &= e^{-rT}\\big[F_0 \\Phi(d_1) - K \\Phi(d_2)\\big]\\\\\n",
    "\\end{split}            \n",
    "\\end{equation}"
   ]
  },
  {
   "cell_type": "code",
   "execution_count": 7,
   "metadata": {},
   "outputs": [],
   "source": [
    "def Black76Call(F, K, r, sigma, T):\n",
    "    d1 = (np.log(F/K)+(sigma**2/2)*T) / (sigma*np.sqrt(T))\n",
    "    d2 = d1 - sigma*np.sqrt(T)\n",
    "    return np.exp(-r*T)*(F*norm.cdf(d1) - K*norm.cdf(d2))"
   ]
  },
  {
   "cell_type": "markdown",
   "metadata": {},
   "source": [
    "Black76 formula (Vanilla Put)\n",
    "\n",
    "\\begin{equation}\n",
    "\\begin{split}\n",
    "P(F_0,K,r,\\sigma,T) &= e^{-rT}\\big[K \\Phi(-d_2) - F_0 \\Phi(-d_1)\\big]\\\\\n",
    "\\end{split}            \n",
    "\\end{equation}"
   ]
  },
  {
   "cell_type": "code",
   "execution_count": 8,
   "metadata": {},
   "outputs": [],
   "source": [
    "def Black76Put(F, K, r, sigma, T):\n",
    "    d1 = (np.log(F/K)+(sigma**2/2)*T) / (sigma*np.sqrt(T))\n",
    "    d2 = d1 - sigma*np.sqrt(T)\n",
    "    return np.exp(-r*T)*(K*norm.cdf(-d2) - F*norm.cdf(-d1))"
   ]
  },
  {
   "cell_type": "markdown",
   "metadata": {},
   "source": [
    "Where:\n",
    "\\begin{equation}\n",
    "\\begin{split}\n",
    "            d_1 &= \\frac{\\log \\frac{F_0}{K} +\n",
    "            \\left(\\frac{\\sigma^2}{2}\\right)T}{\\sigma\\sqrt{T}}, \\hspace{2cm} d_2 = d_1 - \\sigma\\sqrt{T}\\\\\n",
    "\\end{split}            \n",
    "\\end{equation}"
   ]
  },
  {
   "cell_type": "markdown",
   "metadata": {},
   "source": [
    "## Displaced-Diffusion Model"
   ]
  },
  {
   "cell_type": "markdown",
   "metadata": {},
   "source": [
    "Displaced-Diffusion formula (Vanilla Call)\n",
    "\n",
    "\\begin{equation}\n",
    "\\begin{split}\n",
    "C(F_0,K,r,\\sigma,T,\\beta) &= e^{-rT}\\bigg[\\frac{F_0}{\\beta} \\Phi(d_1) - \\bigg(K + \\frac{1 - \\beta}{\\beta} F_0 \\bigg) \\Phi(d_2)\\bigg]\\\\\n",
    "\\end{split}            \n",
    "\\end{equation}"
   ]
  },
  {
   "cell_type": "code",
   "execution_count": 9,
   "metadata": {},
   "outputs": [],
   "source": [
    "def DisplacedDiffusionCall(F, K, r, sigma, T, beta):\n",
    "    \n",
    "    d1 = (np.log((F/beta)/(K+(1-beta)/beta*F))+((sigma**2)*(beta**2)/2)*T) / (sigma*beta*np.sqrt(T))\n",
    "    d2 = d1 - sigma*beta*np.sqrt(T)\n",
    "    return np.exp(-r*T) * ((F/beta)*norm.cdf(d1) - (K + (1-beta)/beta*F)*norm.cdf(d2))\n"
   ]
  },
  {
   "cell_type": "markdown",
   "metadata": {},
   "source": [
    "Displaced-Diffusion formula (Vanilla Put)\n",
    "\n",
    "\\begin{equation}\n",
    "\\begin{split}\n",
    "P(F_0,K,r,\\sigma,T,\\beta) &= e^{-rT}\\bigg[\\bigg(K + \\frac{1 - \\beta}{\\beta} F_0 \\bigg) \\Phi(-d_2) - \\frac{F_0}{\\beta} \\Phi(-d_1)\\bigg]\\\\\n",
    "\\end{split}            \n",
    "\\end{equation}"
   ]
  },
  {
   "cell_type": "code",
   "execution_count": 10,
   "metadata": {},
   "outputs": [],
   "source": [
    "def DisplacedDiffusionPut(F, K, r, sigma, T, beta):\n",
    "    d1 = (np.log((F/beta)/(K+(1-beta)/beta*F))+((sigma**2)*(beta**2)/2)*T) / (sigma*beta*np.sqrt(T))\n",
    "    d2 = d1 - sigma*beta*np.sqrt(T)\n",
    "    return np.exp(-r*T) * ((K + (1-beta)/beta*F)*norm.cdf(-d2) - (F/beta)*norm.cdf(-d1))\n"
   ]
  },
  {
   "cell_type": "markdown",
   "metadata": {},
   "source": [
    "Where:\n",
    "\\begin{equation}\n",
    "\\begin{split}\n",
    "            d_1 &= \\frac{\\log \\frac{\\frac{F_0}{\\beta}}{K+\\frac{1-\\beta}{\\beta}F_0} +\n",
    "            \\left(\\frac{\\sigma^2 \\beta^2}{2}\\right)T}{\\sigma\\beta\\sqrt{T}}, \\hspace{2cm} d_2 = d_1 - \\sigma\\sqrt{T}\\\\\n",
    "\\end{split}            \n",
    "\\end{equation}"
   ]
  },
  {
   "cell_type": "markdown",
   "metadata": {},
   "source": [
    "# Part 2 (Model Calibration)"
   ]
  },
  {
   "cell_type": "code",
   "execution_count": 11,
   "metadata": {},
   "outputs": [],
   "source": [
    "from scipy.optimize import brentq\n",
    "import pandas as pd\n",
    "import datetime"
   ]
  },
  {
   "cell_type": "code",
   "execution_count": 12,
   "metadata": {},
   "outputs": [],
   "source": [
    "# date filenames\n",
    "fn_call = 'goog_call.csv'\n",
    "fn_put = 'goog_put.csv'\n",
    "fn_discount = 'discount.csv'"
   ]
  },
  {
   "cell_type": "code",
   "execution_count": 13,
   "metadata": {},
   "outputs": [],
   "source": [
    "# import data\n",
    "call = pd.read_csv(fn_call, index_col = 'date', parse_dates = True)\n",
    "put = pd.read_csv(fn_put, index_col = 'date', parse_dates = True)\n",
    "discount = pd.read_csv(fn_discount)\n",
    "\n",
    "# convert expiry date to datetime format\n",
    "call['expiry'] = pd.to_datetime(call['expiry'].apply(lambda x: pd.to_datetime(str(x), format = '%Y%m%d')))\n",
    "put['expiry'] = pd.to_datetime(put['expiry'].apply(lambda x: pd.to_datetime(str(x), format = '%Y%m%d')))"
   ]
  },
  {
   "cell_type": "code",
   "execution_count": 14,
   "metadata": {},
   "outputs": [
    {
     "data": {
      "text/html": [
       "<div>\n",
       "<style scoped>\n",
       "    .dataframe tbody tr th:only-of-type {\n",
       "        vertical-align: middle;\n",
       "    }\n",
       "\n",
       "    .dataframe tbody tr th {\n",
       "        vertical-align: top;\n",
       "    }\n",
       "\n",
       "    .dataframe thead th {\n",
       "        text-align: right;\n",
       "    }\n",
       "</style>\n",
       "<table border=\"1\" class=\"dataframe\">\n",
       "  <thead>\n",
       "    <tr style=\"text-align: right;\">\n",
       "      <th></th>\n",
       "      <th>Rate</th>\n",
       "    </tr>\n",
       "  </thead>\n",
       "  <tbody>\n",
       "    <tr>\n",
       "      <th>0</th>\n",
       "      <td>NaN</td>\n",
       "    </tr>\n",
       "    <tr>\n",
       "      <th>1</th>\n",
       "      <td>NaN</td>\n",
       "    </tr>\n",
       "    <tr>\n",
       "      <th>2</th>\n",
       "      <td>NaN</td>\n",
       "    </tr>\n",
       "    <tr>\n",
       "      <th>3</th>\n",
       "      <td>NaN</td>\n",
       "    </tr>\n",
       "    <tr>\n",
       "      <th>4</th>\n",
       "      <td>NaN</td>\n",
       "    </tr>\n",
       "    <tr>\n",
       "      <th>...</th>\n",
       "      <td>...</td>\n",
       "    </tr>\n",
       "    <tr>\n",
       "      <th>3578</th>\n",
       "      <td>0.032268</td>\n",
       "    </tr>\n",
       "    <tr>\n",
       "      <th>3579</th>\n",
       "      <td>0.032273</td>\n",
       "    </tr>\n",
       "    <tr>\n",
       "      <th>3580</th>\n",
       "      <td>0.032278</td>\n",
       "    </tr>\n",
       "    <tr>\n",
       "      <th>3581</th>\n",
       "      <td>0.032283</td>\n",
       "    </tr>\n",
       "    <tr>\n",
       "      <th>3582</th>\n",
       "      <td>0.032288</td>\n",
       "    </tr>\n",
       "  </tbody>\n",
       "</table>\n",
       "<p>3583 rows × 1 columns</p>\n",
       "</div>"
      ],
      "text/plain": [
       "          Rate\n",
       "0          NaN\n",
       "1          NaN\n",
       "2          NaN\n",
       "3          NaN\n",
       "4          NaN\n",
       "...        ...\n",
       "3578  0.032268\n",
       "3579  0.032273\n",
       "3580  0.032278\n",
       "3581  0.032283\n",
       "3582  0.032288\n",
       "\n",
       "[3583 rows x 1 columns]"
      ]
     },
     "execution_count": 14,
     "metadata": {},
     "output_type": "execute_result"
    }
   ],
   "source": [
    "# interpolate discount rates\n",
    "zeros = pd.DataFrame(np.zeros(discount.Day.max()+1), columns = ['dummy'])\n",
    "discount_ = discount.set_index('Day')\n",
    "combined = pd.concat((zeros, discount_), axis = 1).drop(columns = 'dummy')\n",
    "disc = combined.interpolate()/100\n",
    "disc.rename(columns = {'Rate (%)': 'Rate'}, inplace = True)\n",
    "disc\n"
   ]
  },
  {
   "cell_type": "code",
   "execution_count": 15,
   "metadata": {},
   "outputs": [],
   "source": [
    "# params\n",
    "goog_price = 846.9\n",
    "beta_SABR = 0.8"
   ]
  },
  {
   "cell_type": "code",
   "execution_count": 16,
   "metadata": {},
   "outputs": [],
   "source": [
    "call['time_to_maturity_days'] = (call['expiry'] - call.index).dt.days\n",
    "put['time_to_maturity_days'] = (put['expiry'] - put.index).dt.days"
   ]
  },
  {
   "cell_type": "code",
   "execution_count": 17,
   "metadata": {},
   "outputs": [],
   "source": [
    "call['price'] = call.eval('(best_bid + best_offer)/2')\n",
    "put['price'] = put.eval('(best_bid + best_offer)/2')"
   ]
  },
  {
   "cell_type": "code",
   "execution_count": 18,
   "metadata": {},
   "outputs": [],
   "source": [
    "call['discount'] = disc.loc[call.time_to_maturity_days].values\n",
    "put['discount'] = disc.loc[put.time_to_maturity_days].values"
   ]
  },
  {
   "cell_type": "code",
   "execution_count": 19,
   "metadata": {},
   "outputs": [],
   "source": [
    "call['time_to_maturity'] = call['time_to_maturity_days']/365\n",
    "put['time_to_maturity'] = put['time_to_maturity_days']/365"
   ]
  },
  {
   "cell_type": "code",
   "execution_count": 20,
   "metadata": {},
   "outputs": [],
   "source": [
    "call['forward_price'] = goog_price * np.exp(call.discount * call.time_to_maturity)\n",
    "put['forward_price'] = goog_price * np.exp(put.discount * put.time_to_maturity)\n"
   ]
  },
  {
   "cell_type": "markdown",
   "metadata": {},
   "source": [
    "## Implied Volatility Plot"
   ]
  },
  {
   "cell_type": "markdown",
   "metadata": {},
   "source": [
    "### Black76 Model"
   ]
  },
  {
   "cell_type": "code",
   "execution_count": 21,
   "metadata": {},
   "outputs": [],
   "source": [
    "def impliedCallVolatility_black76(F, K, r, price, T):\n",
    "    try:\n",
    "        impliedVol = brentq(lambda x: price -\n",
    "                        Black76Call(F, K, r, x, T),\n",
    "                        1e-6, 1)\n",
    "    except:\n",
    "        impliedVol = np.nan\n",
    "\n",
    "    return impliedVol"
   ]
  },
  {
   "cell_type": "code",
   "execution_count": 22,
   "metadata": {},
   "outputs": [],
   "source": [
    "def impliedPutVolatility_black76(F, K, r, price, T):\n",
    "    try:\n",
    "        impliedVol = brentq(lambda x: price -\n",
    "                        Black76Put(F, K, r, x, T),\n",
    "                        1e-6, 1)\n",
    "    except:\n",
    "        impliedVol = np.nan\n",
    "    return impliedVol"
   ]
  },
  {
   "cell_type": "code",
   "execution_count": 23,
   "metadata": {},
   "outputs": [],
   "source": [
    "# this helps to convert prices generated from the different models to implied vol\n",
    "def implied_vol_black76(F, K, r, price, T):\n",
    "    if F > K:\n",
    "        return impliedPutVolatility_black76(F, K, r, price, T)\n",
    "    if F < K:\n",
    "        return impliedCallVolatility_black76(F, K, r, price, T)"
   ]
  },
  {
   "cell_type": "markdown",
   "metadata": {},
   "source": [
    "### Black-Scholes Model"
   ]
  },
  {
   "cell_type": "code",
   "execution_count": 24,
   "metadata": {},
   "outputs": [],
   "source": [
    "def impliedCallVolatility_blackscholes(S, K, r, price, T):\n",
    "    try:\n",
    "        impliedVol = brentq(lambda x: price -\n",
    "                        BlackScholesCall(S, K, r, x, T),\n",
    "                        1e-6, 1)\n",
    "\n",
    "    except:\n",
    "        impliedVol = np.nan\n",
    "\n",
    "    return impliedVol"
   ]
  },
  {
   "cell_type": "code",
   "execution_count": 25,
   "metadata": {},
   "outputs": [],
   "source": [
    "def impliedPutVolatility_blackscholes(S, K, r, price, T):\n",
    "    try:\n",
    "        impliedVol = brentq(lambda x: price -\n",
    "                        BlackScholesPut(S, K, r, x, T),\n",
    "                        1e-6, 1)\n",
    "\n",
    "    except:\n",
    "        impliedVol = np.nan\n",
    "        \n",
    "\n",
    "    return impliedVol"
   ]
  },
  {
   "cell_type": "code",
   "execution_count": 26,
   "metadata": {},
   "outputs": [],
   "source": [
    "# this helps to convert prices generated from the different models to implied vol\n",
    "def implied_vol_blackscholes(S, K, r, price, T):\n",
    "    if S > K:\n",
    "        return impliedPutVolatility_blackscholes(S, K, r, price, T)\n",
    "    elif S < K:\n",
    "        return impliedCallVolatility_blackscholes(S, K, r, price, T)"
   ]
  },
  {
   "cell_type": "code",
   "execution_count": 27,
   "metadata": {},
   "outputs": [],
   "source": [
    "def black_scholes_price(S, K, r, sigma, T):\n",
    "    if K < S:\n",
    "        price = BlackScholesPut(S, K, r, sigma, T)\n",
    "    elif K > S:\n",
    "        price = BlackScholesCall(S, K, r, sigma, T)\n",
    "    return price"
   ]
  },
  {
   "cell_type": "markdown",
   "metadata": {},
   "source": [
    "### Checkpoint:\n",
    "- ITM options are difficult to price (results in absence of a root solution)"
   ]
  },
  {
   "cell_type": "markdown",
   "metadata": {},
   "source": [
    "### Generating Market Implied Vol Smile"
   ]
  },
  {
   "cell_type": "code",
   "execution_count": 28,
   "metadata": {},
   "outputs": [],
   "source": [
    "# generate df with the out-of-the-money (OTM) data for market-implied volatility\n",
    "OTM_call = call[call.strike > goog_price].copy()\n",
    "OTM_put = put[put.strike < goog_price].copy()\n",
    "OTM_df = pd.concat((OTM_put, OTM_call))"
   ]
  },
  {
   "cell_type": "code",
   "execution_count": 29,
   "metadata": {},
   "outputs": [],
   "source": [
    "# store constant values\n",
    "r = OTM_df.discount[0]\n",
    "T = OTM_df.time_to_maturity[0]\n",
    "F = OTM_df.forward_price[0]"
   ]
  },
  {
   "cell_type": "code",
   "execution_count": 30,
   "metadata": {},
   "outputs": [],
   "source": [
    "OTM_df['impliedvol'] = np.vectorize(implied_vol_blackscholes)(goog_price, \n",
    "                                                 OTM_df.strike,\n",
    "                                                 r,\n",
    "                                                 OTM_df.price,\n",
    "                                                 T)"
   ]
  },
  {
   "cell_type": "code",
   "execution_count": 31,
   "metadata": {},
   "outputs": [
    {
     "data": {
      "text/html": [
       "<div>\n",
       "<style scoped>\n",
       "    .dataframe tbody tr th:only-of-type {\n",
       "        vertical-align: middle;\n",
       "    }\n",
       "\n",
       "    .dataframe tbody tr th {\n",
       "        vertical-align: top;\n",
       "    }\n",
       "\n",
       "    .dataframe thead th {\n",
       "        text-align: right;\n",
       "    }\n",
       "</style>\n",
       "<table border=\"1\" class=\"dataframe\">\n",
       "  <thead>\n",
       "    <tr style=\"text-align: right;\">\n",
       "      <th></th>\n",
       "      <th>strike</th>\n",
       "      <th>impliedvol</th>\n",
       "    </tr>\n",
       "    <tr>\n",
       "      <th>date</th>\n",
       "      <th></th>\n",
       "      <th></th>\n",
       "    </tr>\n",
       "  </thead>\n",
       "  <tbody>\n",
       "    <tr>\n",
       "      <th>2013-08-30</th>\n",
       "      <td>320</td>\n",
       "      <td>0.393102</td>\n",
       "    </tr>\n",
       "    <tr>\n",
       "      <th>2013-08-30</th>\n",
       "      <td>340</td>\n",
       "      <td>0.361520</td>\n",
       "    </tr>\n",
       "    <tr>\n",
       "      <th>2013-08-30</th>\n",
       "      <td>350</td>\n",
       "      <td>0.365782</td>\n",
       "    </tr>\n",
       "    <tr>\n",
       "      <th>2013-08-30</th>\n",
       "      <td>360</td>\n",
       "      <td>0.355104</td>\n",
       "    </tr>\n",
       "    <tr>\n",
       "      <th>2013-08-30</th>\n",
       "      <td>370</td>\n",
       "      <td>0.348660</td>\n",
       "    </tr>\n",
       "    <tr>\n",
       "      <th>2013-08-30</th>\n",
       "      <td>380</td>\n",
       "      <td>0.348356</td>\n",
       "    </tr>\n",
       "    <tr>\n",
       "      <th>2013-08-30</th>\n",
       "      <td>390</td>\n",
       "      <td>0.340733</td>\n",
       "    </tr>\n",
       "    <tr>\n",
       "      <th>2013-08-30</th>\n",
       "      <td>400</td>\n",
       "      <td>0.337852</td>\n",
       "    </tr>\n",
       "    <tr>\n",
       "      <th>2013-08-30</th>\n",
       "      <td>410</td>\n",
       "      <td>0.331197</td>\n",
       "    </tr>\n",
       "    <tr>\n",
       "      <th>2013-08-30</th>\n",
       "      <td>420</td>\n",
       "      <td>0.328965</td>\n",
       "    </tr>\n",
       "    <tr>\n",
       "      <th>2013-08-30</th>\n",
       "      <td>430</td>\n",
       "      <td>0.327375</td>\n",
       "    </tr>\n",
       "    <tr>\n",
       "      <th>2013-08-30</th>\n",
       "      <td>440</td>\n",
       "      <td>0.324626</td>\n",
       "    </tr>\n",
       "    <tr>\n",
       "      <th>2013-08-30</th>\n",
       "      <td>450</td>\n",
       "      <td>0.317992</td>\n",
       "    </tr>\n",
       "    <tr>\n",
       "      <th>2013-08-30</th>\n",
       "      <td>460</td>\n",
       "      <td>0.317601</td>\n",
       "    </tr>\n",
       "    <tr>\n",
       "      <th>2013-08-30</th>\n",
       "      <td>470</td>\n",
       "      <td>0.316310</td>\n",
       "    </tr>\n",
       "    <tr>\n",
       "      <th>2013-08-30</th>\n",
       "      <td>480</td>\n",
       "      <td>0.313159</td>\n",
       "    </tr>\n",
       "    <tr>\n",
       "      <th>2013-08-30</th>\n",
       "      <td>490</td>\n",
       "      <td>0.310646</td>\n",
       "    </tr>\n",
       "    <tr>\n",
       "      <th>2013-08-30</th>\n",
       "      <td>500</td>\n",
       "      <td>0.314849</td>\n",
       "    </tr>\n",
       "    <tr>\n",
       "      <th>2013-08-30</th>\n",
       "      <td>510</td>\n",
       "      <td>0.306031</td>\n",
       "    </tr>\n",
       "    <tr>\n",
       "      <th>2013-08-30</th>\n",
       "      <td>520</td>\n",
       "      <td>0.305937</td>\n",
       "    </tr>\n",
       "    <tr>\n",
       "      <th>2013-08-30</th>\n",
       "      <td>530</td>\n",
       "      <td>0.306597</td>\n",
       "    </tr>\n",
       "    <tr>\n",
       "      <th>2013-08-30</th>\n",
       "      <td>540</td>\n",
       "      <td>0.301316</td>\n",
       "    </tr>\n",
       "    <tr>\n",
       "      <th>2013-08-30</th>\n",
       "      <td>550</td>\n",
       "      <td>0.298657</td>\n",
       "    </tr>\n",
       "    <tr>\n",
       "      <th>2013-08-30</th>\n",
       "      <td>560</td>\n",
       "      <td>0.297201</td>\n",
       "    </tr>\n",
       "    <tr>\n",
       "      <th>2013-08-30</th>\n",
       "      <td>570</td>\n",
       "      <td>0.295503</td>\n",
       "    </tr>\n",
       "    <tr>\n",
       "      <th>2013-08-30</th>\n",
       "      <td>580</td>\n",
       "      <td>0.293872</td>\n",
       "    </tr>\n",
       "    <tr>\n",
       "      <th>2013-08-30</th>\n",
       "      <td>590</td>\n",
       "      <td>0.294441</td>\n",
       "    </tr>\n",
       "    <tr>\n",
       "      <th>2013-08-30</th>\n",
       "      <td>600</td>\n",
       "      <td>0.292241</td>\n",
       "    </tr>\n",
       "    <tr>\n",
       "      <th>2013-08-30</th>\n",
       "      <td>610</td>\n",
       "      <td>0.291072</td>\n",
       "    </tr>\n",
       "    <tr>\n",
       "      <th>2013-08-30</th>\n",
       "      <td>620</td>\n",
       "      <td>0.289155</td>\n",
       "    </tr>\n",
       "    <tr>\n",
       "      <th>2013-08-30</th>\n",
       "      <td>630</td>\n",
       "      <td>0.286354</td>\n",
       "    </tr>\n",
       "    <tr>\n",
       "      <th>2013-08-30</th>\n",
       "      <td>640</td>\n",
       "      <td>0.285314</td>\n",
       "    </tr>\n",
       "    <tr>\n",
       "      <th>2013-08-30</th>\n",
       "      <td>650</td>\n",
       "      <td>0.283570</td>\n",
       "    </tr>\n",
       "    <tr>\n",
       "      <th>2013-08-30</th>\n",
       "      <td>660</td>\n",
       "      <td>0.282753</td>\n",
       "    </tr>\n",
       "    <tr>\n",
       "      <th>2013-08-30</th>\n",
       "      <td>670</td>\n",
       "      <td>0.281625</td>\n",
       "    </tr>\n",
       "    <tr>\n",
       "      <th>2013-08-30</th>\n",
       "      <td>680</td>\n",
       "      <td>0.280572</td>\n",
       "    </tr>\n",
       "    <tr>\n",
       "      <th>2013-08-30</th>\n",
       "      <td>690</td>\n",
       "      <td>0.278533</td>\n",
       "    </tr>\n",
       "    <tr>\n",
       "      <th>2013-08-30</th>\n",
       "      <td>700</td>\n",
       "      <td>0.277619</td>\n",
       "    </tr>\n",
       "    <tr>\n",
       "      <th>2013-08-30</th>\n",
       "      <td>710</td>\n",
       "      <td>0.276574</td>\n",
       "    </tr>\n",
       "    <tr>\n",
       "      <th>2013-08-30</th>\n",
       "      <td>720</td>\n",
       "      <td>0.275406</td>\n",
       "    </tr>\n",
       "    <tr>\n",
       "      <th>2013-08-30</th>\n",
       "      <td>730</td>\n",
       "      <td>0.275045</td>\n",
       "    </tr>\n",
       "    <tr>\n",
       "      <th>2013-08-30</th>\n",
       "      <td>735</td>\n",
       "      <td>0.273699</td>\n",
       "    </tr>\n",
       "    <tr>\n",
       "      <th>2013-08-30</th>\n",
       "      <td>740</td>\n",
       "      <td>0.272868</td>\n",
       "    </tr>\n",
       "    <tr>\n",
       "      <th>2013-08-30</th>\n",
       "      <td>745</td>\n",
       "      <td>0.271938</td>\n",
       "    </tr>\n",
       "    <tr>\n",
       "      <th>2013-08-30</th>\n",
       "      <td>750</td>\n",
       "      <td>0.271058</td>\n",
       "    </tr>\n",
       "    <tr>\n",
       "      <th>2013-08-30</th>\n",
       "      <td>755</td>\n",
       "      <td>0.272261</td>\n",
       "    </tr>\n",
       "    <tr>\n",
       "      <th>2013-08-30</th>\n",
       "      <td>760</td>\n",
       "      <td>0.270735</td>\n",
       "    </tr>\n",
       "    <tr>\n",
       "      <th>2013-08-30</th>\n",
       "      <td>765</td>\n",
       "      <td>0.269838</td>\n",
       "    </tr>\n",
       "    <tr>\n",
       "      <th>2013-08-30</th>\n",
       "      <td>770</td>\n",
       "      <td>0.269973</td>\n",
       "    </tr>\n",
       "    <tr>\n",
       "      <th>2013-08-30</th>\n",
       "      <td>775</td>\n",
       "      <td>0.268876</td>\n",
       "    </tr>\n",
       "    <tr>\n",
       "      <th>2013-08-30</th>\n",
       "      <td>780</td>\n",
       "      <td>0.268796</td>\n",
       "    </tr>\n",
       "    <tr>\n",
       "      <th>2013-08-30</th>\n",
       "      <td>785</td>\n",
       "      <td>0.269431</td>\n",
       "    </tr>\n",
       "    <tr>\n",
       "      <th>2013-08-30</th>\n",
       "      <td>790</td>\n",
       "      <td>0.267906</td>\n",
       "    </tr>\n",
       "    <tr>\n",
       "      <th>2013-08-30</th>\n",
       "      <td>795</td>\n",
       "      <td>0.266973</td>\n",
       "    </tr>\n",
       "    <tr>\n",
       "      <th>2013-08-30</th>\n",
       "      <td>800</td>\n",
       "      <td>0.267556</td>\n",
       "    </tr>\n",
       "    <tr>\n",
       "      <th>2013-08-30</th>\n",
       "      <td>805</td>\n",
       "      <td>0.266429</td>\n",
       "    </tr>\n",
       "    <tr>\n",
       "      <th>2013-08-30</th>\n",
       "      <td>810</td>\n",
       "      <td>0.266138</td>\n",
       "    </tr>\n",
       "    <tr>\n",
       "      <th>2013-08-30</th>\n",
       "      <td>815</td>\n",
       "      <td>0.265749</td>\n",
       "    </tr>\n",
       "    <tr>\n",
       "      <th>2013-08-30</th>\n",
       "      <td>820</td>\n",
       "      <td>0.264869</td>\n",
       "    </tr>\n",
       "    <tr>\n",
       "      <th>2013-08-30</th>\n",
       "      <td>825</td>\n",
       "      <td>0.265069</td>\n",
       "    </tr>\n",
       "    <tr>\n",
       "      <th>2013-08-30</th>\n",
       "      <td>830</td>\n",
       "      <td>0.264003</td>\n",
       "    </tr>\n",
       "    <tr>\n",
       "      <th>2013-08-30</th>\n",
       "      <td>835</td>\n",
       "      <td>0.263234</td>\n",
       "    </tr>\n",
       "    <tr>\n",
       "      <th>2013-08-30</th>\n",
       "      <td>840</td>\n",
       "      <td>0.263015</td>\n",
       "    </tr>\n",
       "    <tr>\n",
       "      <th>2013-08-30</th>\n",
       "      <td>845</td>\n",
       "      <td>0.262956</td>\n",
       "    </tr>\n",
       "    <tr>\n",
       "      <th>2013-08-30</th>\n",
       "      <td>850</td>\n",
       "      <td>0.254256</td>\n",
       "    </tr>\n",
       "    <tr>\n",
       "      <th>2013-08-30</th>\n",
       "      <td>855</td>\n",
       "      <td>0.253962</td>\n",
       "    </tr>\n",
       "    <tr>\n",
       "      <th>2013-08-30</th>\n",
       "      <td>860</td>\n",
       "      <td>0.254079</td>\n",
       "    </tr>\n",
       "    <tr>\n",
       "      <th>2013-08-30</th>\n",
       "      <td>865</td>\n",
       "      <td>0.253846</td>\n",
       "    </tr>\n",
       "    <tr>\n",
       "      <th>2013-08-30</th>\n",
       "      <td>870</td>\n",
       "      <td>0.252510</td>\n",
       "    </tr>\n",
       "    <tr>\n",
       "      <th>2013-08-30</th>\n",
       "      <td>875</td>\n",
       "      <td>0.252596</td>\n",
       "    </tr>\n",
       "    <tr>\n",
       "      <th>2013-08-30</th>\n",
       "      <td>880</td>\n",
       "      <td>0.252336</td>\n",
       "    </tr>\n",
       "    <tr>\n",
       "      <th>2013-08-30</th>\n",
       "      <td>885</td>\n",
       "      <td>0.252488</td>\n",
       "    </tr>\n",
       "    <tr>\n",
       "      <th>2013-08-30</th>\n",
       "      <td>890</td>\n",
       "      <td>0.251919</td>\n",
       "    </tr>\n",
       "    <tr>\n",
       "      <th>2013-08-30</th>\n",
       "      <td>895</td>\n",
       "      <td>0.251889</td>\n",
       "    </tr>\n",
       "    <tr>\n",
       "      <th>2013-08-30</th>\n",
       "      <td>900</td>\n",
       "      <td>0.251643</td>\n",
       "    </tr>\n",
       "    <tr>\n",
       "      <th>2013-08-30</th>\n",
       "      <td>910</td>\n",
       "      <td>0.250254</td>\n",
       "    </tr>\n",
       "    <tr>\n",
       "      <th>2013-08-30</th>\n",
       "      <td>920</td>\n",
       "      <td>0.250659</td>\n",
       "    </tr>\n",
       "    <tr>\n",
       "      <th>2013-08-30</th>\n",
       "      <td>930</td>\n",
       "      <td>0.249963</td>\n",
       "    </tr>\n",
       "    <tr>\n",
       "      <th>2013-08-30</th>\n",
       "      <td>940</td>\n",
       "      <td>0.249434</td>\n",
       "    </tr>\n",
       "    <tr>\n",
       "      <th>2013-08-30</th>\n",
       "      <td>950</td>\n",
       "      <td>0.248825</td>\n",
       "    </tr>\n",
       "    <tr>\n",
       "      <th>2013-08-30</th>\n",
       "      <td>960</td>\n",
       "      <td>0.249965</td>\n",
       "    </tr>\n",
       "    <tr>\n",
       "      <th>2013-08-30</th>\n",
       "      <td>970</td>\n",
       "      <td>0.247916</td>\n",
       "    </tr>\n",
       "    <tr>\n",
       "      <th>2013-08-30</th>\n",
       "      <td>980</td>\n",
       "      <td>0.247505</td>\n",
       "    </tr>\n",
       "    <tr>\n",
       "      <th>2013-08-30</th>\n",
       "      <td>990</td>\n",
       "      <td>0.247855</td>\n",
       "    </tr>\n",
       "    <tr>\n",
       "      <th>2013-08-30</th>\n",
       "      <td>1000</td>\n",
       "      <td>0.248185</td>\n",
       "    </tr>\n",
       "    <tr>\n",
       "      <th>2013-08-30</th>\n",
       "      <td>1010</td>\n",
       "      <td>0.247675</td>\n",
       "    </tr>\n",
       "    <tr>\n",
       "      <th>2013-08-30</th>\n",
       "      <td>1020</td>\n",
       "      <td>0.245165</td>\n",
       "    </tr>\n",
       "    <tr>\n",
       "      <th>2013-08-30</th>\n",
       "      <td>1030</td>\n",
       "      <td>0.245871</td>\n",
       "    </tr>\n",
       "    <tr>\n",
       "      <th>2013-08-30</th>\n",
       "      <td>1040</td>\n",
       "      <td>0.245149</td>\n",
       "    </tr>\n",
       "    <tr>\n",
       "      <th>2013-08-30</th>\n",
       "      <td>1050</td>\n",
       "      <td>0.245017</td>\n",
       "    </tr>\n",
       "    <tr>\n",
       "      <th>2013-08-30</th>\n",
       "      <td>1060</td>\n",
       "      <td>0.244302</td>\n",
       "    </tr>\n",
       "    <tr>\n",
       "      <th>2013-08-30</th>\n",
       "      <td>1070</td>\n",
       "      <td>0.244376</td>\n",
       "    </tr>\n",
       "    <tr>\n",
       "      <th>2013-08-30</th>\n",
       "      <td>1080</td>\n",
       "      <td>0.243235</td>\n",
       "    </tr>\n",
       "    <tr>\n",
       "      <th>2013-08-30</th>\n",
       "      <td>1090</td>\n",
       "      <td>0.244548</td>\n",
       "    </tr>\n",
       "    <tr>\n",
       "      <th>2013-08-30</th>\n",
       "      <td>1100</td>\n",
       "      <td>0.243002</td>\n",
       "    </tr>\n",
       "    <tr>\n",
       "      <th>2013-08-30</th>\n",
       "      <td>1110</td>\n",
       "      <td>0.243861</td>\n",
       "    </tr>\n",
       "    <tr>\n",
       "      <th>2013-08-30</th>\n",
       "      <td>1120</td>\n",
       "      <td>0.243115</td>\n",
       "    </tr>\n",
       "    <tr>\n",
       "      <th>2013-08-30</th>\n",
       "      <td>1130</td>\n",
       "      <td>0.243705</td>\n",
       "    </tr>\n",
       "    <tr>\n",
       "      <th>2013-08-30</th>\n",
       "      <td>1140</td>\n",
       "      <td>0.241869</td>\n",
       "    </tr>\n",
       "    <tr>\n",
       "      <th>2013-08-30</th>\n",
       "      <td>1150</td>\n",
       "      <td>0.241404</td>\n",
       "    </tr>\n",
       "    <tr>\n",
       "      <th>2013-08-30</th>\n",
       "      <td>1160</td>\n",
       "      <td>0.243230</td>\n",
       "    </tr>\n",
       "    <tr>\n",
       "      <th>2013-08-30</th>\n",
       "      <td>1170</td>\n",
       "      <td>0.243921</td>\n",
       "    </tr>\n",
       "    <tr>\n",
       "      <th>2013-08-30</th>\n",
       "      <td>1180</td>\n",
       "      <td>0.243399</td>\n",
       "    </tr>\n",
       "    <tr>\n",
       "      <th>2013-08-30</th>\n",
       "      <td>1190</td>\n",
       "      <td>0.242836</td>\n",
       "    </tr>\n",
       "    <tr>\n",
       "      <th>2013-08-30</th>\n",
       "      <td>1200</td>\n",
       "      <td>0.242019</td>\n",
       "    </tr>\n",
       "    <tr>\n",
       "      <th>2013-08-30</th>\n",
       "      <td>1210</td>\n",
       "      <td>0.241159</td>\n",
       "    </tr>\n",
       "    <tr>\n",
       "      <th>2013-08-30</th>\n",
       "      <td>1220</td>\n",
       "      <td>0.241687</td>\n",
       "    </tr>\n",
       "    <tr>\n",
       "      <th>2013-08-30</th>\n",
       "      <td>1230</td>\n",
       "      <td>0.241553</td>\n",
       "    </tr>\n",
       "    <tr>\n",
       "      <th>2013-08-30</th>\n",
       "      <td>1240</td>\n",
       "      <td>0.242214</td>\n",
       "    </tr>\n",
       "    <tr>\n",
       "      <th>2013-08-30</th>\n",
       "      <td>1250</td>\n",
       "      <td>0.242458</td>\n",
       "    </tr>\n",
       "    <tr>\n",
       "      <th>2013-08-30</th>\n",
       "      <td>1260</td>\n",
       "      <td>0.240084</td>\n",
       "    </tr>\n",
       "    <tr>\n",
       "      <th>2013-08-30</th>\n",
       "      <td>1270</td>\n",
       "      <td>0.239299</td>\n",
       "    </tr>\n",
       "    <tr>\n",
       "      <th>2013-08-30</th>\n",
       "      <td>1280</td>\n",
       "      <td>0.241488</td>\n",
       "    </tr>\n",
       "    <tr>\n",
       "      <th>2013-08-30</th>\n",
       "      <td>1290</td>\n",
       "      <td>0.240922</td>\n",
       "    </tr>\n",
       "    <tr>\n",
       "      <th>2013-08-30</th>\n",
       "      <td>1300</td>\n",
       "      <td>0.241377</td>\n",
       "    </tr>\n",
       "    <tr>\n",
       "      <th>2013-08-30</th>\n",
       "      <td>1310</td>\n",
       "      <td>0.241033</td>\n",
       "    </tr>\n",
       "    <tr>\n",
       "      <th>2013-08-30</th>\n",
       "      <td>1320</td>\n",
       "      <td>0.240818</td>\n",
       "    </tr>\n",
       "    <tr>\n",
       "      <th>2013-08-30</th>\n",
       "      <td>1330</td>\n",
       "      <td>0.240758</td>\n",
       "    </tr>\n",
       "    <tr>\n",
       "      <th>2013-08-30</th>\n",
       "      <td>1340</td>\n",
       "      <td>0.240881</td>\n",
       "    </tr>\n",
       "    <tr>\n",
       "      <th>2013-08-30</th>\n",
       "      <td>1350</td>\n",
       "      <td>0.243821</td>\n",
       "    </tr>\n",
       "    <tr>\n",
       "      <th>2013-08-30</th>\n",
       "      <td>1360</td>\n",
       "      <td>0.244487</td>\n",
       "    </tr>\n",
       "    <tr>\n",
       "      <th>2013-08-30</th>\n",
       "      <td>1370</td>\n",
       "      <td>0.244644</td>\n",
       "    </tr>\n",
       "  </tbody>\n",
       "</table>\n",
       "</div>"
      ],
      "text/plain": [
       "            strike  impliedvol\n",
       "date                          \n",
       "2013-08-30     320    0.393102\n",
       "2013-08-30     340    0.361520\n",
       "2013-08-30     350    0.365782\n",
       "2013-08-30     360    0.355104\n",
       "2013-08-30     370    0.348660\n",
       "2013-08-30     380    0.348356\n",
       "2013-08-30     390    0.340733\n",
       "2013-08-30     400    0.337852\n",
       "2013-08-30     410    0.331197\n",
       "2013-08-30     420    0.328965\n",
       "2013-08-30     430    0.327375\n",
       "2013-08-30     440    0.324626\n",
       "2013-08-30     450    0.317992\n",
       "2013-08-30     460    0.317601\n",
       "2013-08-30     470    0.316310\n",
       "2013-08-30     480    0.313159\n",
       "2013-08-30     490    0.310646\n",
       "2013-08-30     500    0.314849\n",
       "2013-08-30     510    0.306031\n",
       "2013-08-30     520    0.305937\n",
       "2013-08-30     530    0.306597\n",
       "2013-08-30     540    0.301316\n",
       "2013-08-30     550    0.298657\n",
       "2013-08-30     560    0.297201\n",
       "2013-08-30     570    0.295503\n",
       "2013-08-30     580    0.293872\n",
       "2013-08-30     590    0.294441\n",
       "2013-08-30     600    0.292241\n",
       "2013-08-30     610    0.291072\n",
       "2013-08-30     620    0.289155\n",
       "2013-08-30     630    0.286354\n",
       "2013-08-30     640    0.285314\n",
       "2013-08-30     650    0.283570\n",
       "2013-08-30     660    0.282753\n",
       "2013-08-30     670    0.281625\n",
       "2013-08-30     680    0.280572\n",
       "2013-08-30     690    0.278533\n",
       "2013-08-30     700    0.277619\n",
       "2013-08-30     710    0.276574\n",
       "2013-08-30     720    0.275406\n",
       "2013-08-30     730    0.275045\n",
       "2013-08-30     735    0.273699\n",
       "2013-08-30     740    0.272868\n",
       "2013-08-30     745    0.271938\n",
       "2013-08-30     750    0.271058\n",
       "2013-08-30     755    0.272261\n",
       "2013-08-30     760    0.270735\n",
       "2013-08-30     765    0.269838\n",
       "2013-08-30     770    0.269973\n",
       "2013-08-30     775    0.268876\n",
       "2013-08-30     780    0.268796\n",
       "2013-08-30     785    0.269431\n",
       "2013-08-30     790    0.267906\n",
       "2013-08-30     795    0.266973\n",
       "2013-08-30     800    0.267556\n",
       "2013-08-30     805    0.266429\n",
       "2013-08-30     810    0.266138\n",
       "2013-08-30     815    0.265749\n",
       "2013-08-30     820    0.264869\n",
       "2013-08-30     825    0.265069\n",
       "2013-08-30     830    0.264003\n",
       "2013-08-30     835    0.263234\n",
       "2013-08-30     840    0.263015\n",
       "2013-08-30     845    0.262956\n",
       "2013-08-30     850    0.254256\n",
       "2013-08-30     855    0.253962\n",
       "2013-08-30     860    0.254079\n",
       "2013-08-30     865    0.253846\n",
       "2013-08-30     870    0.252510\n",
       "2013-08-30     875    0.252596\n",
       "2013-08-30     880    0.252336\n",
       "2013-08-30     885    0.252488\n",
       "2013-08-30     890    0.251919\n",
       "2013-08-30     895    0.251889\n",
       "2013-08-30     900    0.251643\n",
       "2013-08-30     910    0.250254\n",
       "2013-08-30     920    0.250659\n",
       "2013-08-30     930    0.249963\n",
       "2013-08-30     940    0.249434\n",
       "2013-08-30     950    0.248825\n",
       "2013-08-30     960    0.249965\n",
       "2013-08-30     970    0.247916\n",
       "2013-08-30     980    0.247505\n",
       "2013-08-30     990    0.247855\n",
       "2013-08-30    1000    0.248185\n",
       "2013-08-30    1010    0.247675\n",
       "2013-08-30    1020    0.245165\n",
       "2013-08-30    1030    0.245871\n",
       "2013-08-30    1040    0.245149\n",
       "2013-08-30    1050    0.245017\n",
       "2013-08-30    1060    0.244302\n",
       "2013-08-30    1070    0.244376\n",
       "2013-08-30    1080    0.243235\n",
       "2013-08-30    1090    0.244548\n",
       "2013-08-30    1100    0.243002\n",
       "2013-08-30    1110    0.243861\n",
       "2013-08-30    1120    0.243115\n",
       "2013-08-30    1130    0.243705\n",
       "2013-08-30    1140    0.241869\n",
       "2013-08-30    1150    0.241404\n",
       "2013-08-30    1160    0.243230\n",
       "2013-08-30    1170    0.243921\n",
       "2013-08-30    1180    0.243399\n",
       "2013-08-30    1190    0.242836\n",
       "2013-08-30    1200    0.242019\n",
       "2013-08-30    1210    0.241159\n",
       "2013-08-30    1220    0.241687\n",
       "2013-08-30    1230    0.241553\n",
       "2013-08-30    1240    0.242214\n",
       "2013-08-30    1250    0.242458\n",
       "2013-08-30    1260    0.240084\n",
       "2013-08-30    1270    0.239299\n",
       "2013-08-30    1280    0.241488\n",
       "2013-08-30    1290    0.240922\n",
       "2013-08-30    1300    0.241377\n",
       "2013-08-30    1310    0.241033\n",
       "2013-08-30    1320    0.240818\n",
       "2013-08-30    1330    0.240758\n",
       "2013-08-30    1340    0.240881\n",
       "2013-08-30    1350    0.243821\n",
       "2013-08-30    1360    0.244487\n",
       "2013-08-30    1370    0.244644"
      ]
     },
     "execution_count": 31,
     "metadata": {},
     "output_type": "execute_result"
    }
   ],
   "source": [
    "vol_smile_df = OTM_df[['strike', 'impliedvol']]\n",
    "vol_smile_df"
   ]
  },
  {
   "cell_type": "code",
   "execution_count": 32,
   "metadata": {},
   "outputs": [
    {
     "data": {
      "text/plain": [
       "0.2596500836618964"
      ]
     },
     "execution_count": 32,
     "metadata": {},
     "output_type": "execute_result"
    }
   ],
   "source": [
    "strike_lower = OTM_df[OTM_df.strike < goog_price].strike.iloc[-1]\n",
    "strike_upper = OTM_df[OTM_df.strike > goog_price].strike.iloc[0]\n",
    "\n",
    "# calculate estimated ATM vol\n",
    "volATM_lower = vol_smile_df.query('strike < @goog_price').impliedvol[-1]\n",
    "volATM_higher = vol_smile_df.query('strike > @goog_price').impliedvol[0]\n",
    "\n",
    "lower_vol = np.min\n",
    "\n",
    "# interpolate\n",
    "vol_ATM = (strike_upper - goog_price)/(strike_upper - strike_lower)*abs(volATM_lower - volATM_higher) + np.min([volATM_higher,volATM_lower])\n",
    "vol_ATM # this is the vol to use for displaced-diffusion"
   ]
  },
  {
   "cell_type": "code",
   "execution_count": 33,
   "metadata": {},
   "outputs": [],
   "source": [
    "OTM_df['blackscholes_prices'] = np.vectorize(black_scholes_price)(goog_price,\n",
    "                                                                  OTM_df['strike'],\n",
    "                                                                  r,\n",
    "                                                                  vol_ATM,\n",
    "                                                                  T)"
   ]
  },
  {
   "cell_type": "markdown",
   "metadata": {},
   "source": [
    "#### Bachelier Model"
   ]
  },
  {
   "cell_type": "code",
   "execution_count": 34,
   "metadata": {},
   "outputs": [],
   "source": [
    "def bachelier_price(S, K, r, sigma_norm, T):\n",
    "    if S <= K:\n",
    "        return BachelierCall(S, K, r, sigma_norm, T)\n",
    "    elif S > K:\n",
    "        return BachelierPut(S, K, r, sigma_norm, T)\n",
    "    "
   ]
  },
  {
   "cell_type": "code",
   "execution_count": 35,
   "metadata": {},
   "outputs": [
    {
     "name": "stdout",
     "output_type": "stream",
     "text": [
      "ATM price = 102.78853\n"
     ]
    }
   ],
   "source": [
    "# calculate ATM price\n",
    "blackscholes_call = BlackScholesCall(goog_price,\n",
    "                                     goog_price*np.exp(r*T),\n",
    "                                     r,\n",
    "                                     vol_ATM,\n",
    "                                     T)\n",
    "blackscholes_put = BlackScholesPut(goog_price,\n",
    "                                     goog_price*np.exp(r*T),\n",
    "                                     r,\n",
    "                                     vol_ATM,\n",
    "                                     T)\n",
    "\n",
    "#check call and put are same prices\n",
    "if (np.round(blackscholes_call,5) == np.round(blackscholes_put,5)):\n",
    "    ATM_price = blackscholes_call\n",
    "    print('ATM price = %.5f' % ATM_price)\n",
    "else:\n",
    "    print('error')"
   ]
  },
  {
   "cell_type": "code",
   "execution_count": 36,
   "metadata": {},
   "outputs": [],
   "source": [
    "def impliedVolatility_bachelier(S, K, r, ATM_price, T):\n",
    "    try:\n",
    "        impliedVol_call = brentq(lambda x: ATM_price -\n",
    "                        BachelierCall(S, K, r, x, T),\n",
    "                        1e-6, 1)\n",
    "        impliedVol_put = brentq(lambda x: ATM_price -\n",
    "                        BachelierPut(S, K, r, x, T),\n",
    "                        1e-6, 1)\n",
    "        impliedVol = (impliedVol_call+impliedVol_put)/2\n",
    "    except:\n",
    "        impliedVol = np.nan\n",
    "\n",
    "    return impliedVol"
   ]
  },
  {
   "cell_type": "code",
   "execution_count": 37,
   "metadata": {},
   "outputs": [
    {
     "data": {
      "text/plain": [
       "0.25860023479370225"
      ]
     },
     "execution_count": 37,
     "metadata": {},
     "output_type": "execute_result"
    }
   ],
   "source": [
    "# calculating ATM sigma norm\n",
    "sigma_norm = impliedVolatility_bachelier(goog_price, \n",
    "                                             goog_price*np.exp(r*T), \n",
    "                                             r, \n",
    "                                             ATM_price, \n",
    "                                             T)\n",
    "sigma_norm"
   ]
  },
  {
   "cell_type": "code",
   "execution_count": 38,
   "metadata": {},
   "outputs": [],
   "source": [
    "OTM_df['bachelier_prices'] = np.vectorize(bachelier_price)(goog_price,\n",
    "                                                            OTM_df['strike'],\n",
    "                                                            r,\n",
    "                                                            sigma_norm,\n",
    "                                                            T)\n"
   ]
  },
  {
   "cell_type": "code",
   "execution_count": 39,
   "metadata": {},
   "outputs": [],
   "source": [
    "OTM_df['bachelier_impliedvol'] = np.vectorize(implied_vol_blackscholes)(goog_price, \n",
    "                                                           OTM_df.strike,\n",
    "                                                           r,\n",
    "                                                           OTM_df.bachelier_prices,\n",
    "                                                           T)"
   ]
  },
  {
   "cell_type": "code",
   "execution_count": 40,
   "metadata": {},
   "outputs": [
    {
     "data": {
      "image/png": "[encoded data removed]",
      "text/plain": [
       "<Figure size 720x576 with 1 Axes>"
      ]
     },
     "metadata": {
      "needs_background": "light"
     },
     "output_type": "display_data"
    }
   ],
   "source": [
    "plt.figure(figsize = (10,8))\n",
    "plt.hlines(vol_ATM, xmin = OTM_df.strike.min(), xmax = OTM_df.strike.max(), linestyles = '--', label = 'Black-Scholes Implied Vol smile')\n",
    "plt.scatter(OTM_df.strike, OTM_df.impliedvol, label = 'Market Implied Vol Smile')\n",
    "plt.plot(OTM_df.strike, OTM_df.bachelier_impliedvol, label = 'Bachelier Implied Vol Smile')\n",
    "plt.title('Market-Implied Volatility Smile')\n",
    "plt.xlabel('Strike')\n",
    "plt.ylabel('Implied Volatility(%)')\n",
    "plt.legend();"
   ]
  },
  {
   "cell_type": "markdown",
   "metadata": {},
   "source": [
    "### Displaced-Diffusion Model"
   ]
  },
  {
   "cell_type": "code",
   "execution_count": 41,
   "metadata": {},
   "outputs": [],
   "source": [
    "def displaced_diffusion_price(F, K, r, sigma, T, beta):\n",
    "    if K < F:\n",
    "        price = DisplacedDiffusionPut(F, K, r, sigma, T, beta)\n",
    "    elif K > F:\n",
    "        price = DisplacedDiffusionCall(F, K, r, sigma, T, beta)\n",
    "    else:\n",
    "        None\n",
    "    return price"
   ]
  },
  {
   "cell_type": "code",
   "execution_count": 42,
   "metadata": {},
   "outputs": [
    {
     "name": "stdout",
     "output_type": "stream",
     "text": [
      "Calibrated Displaced-Diffusion model parameters: sigma = 0.2597, beta = 0.4253\n"
     ]
    }
   ],
   "source": [
    "# Using the generated implied vol ATM (vol_ATM), fit it to Displaced-diffusion model\n",
    "# then optimize for beta to minimize price differences\n",
    "\n",
    "from scipy.optimize import least_squares\n",
    "\n",
    "#x is beta only\n",
    "def DD_calibration(x, F, strikes, prices, r, T):\n",
    "    err = 0.0\n",
    "    for i, price in enumerate(prices):\n",
    "        err += (price - displaced_diffusion_price(F,\n",
    "                                                  strikes[i],\n",
    "                                                  r,\n",
    "                                                  vol_ATM,\n",
    "                                                  T,\n",
    "                                                  x[0]))**2\n",
    "    \n",
    "    return err\n",
    "\n",
    "df = OTM_df\n",
    "\n",
    "# initial guess of beta\n",
    "initialGuess = [0.8]\n",
    "\n",
    "res = least_squares(lambda x: DD_calibration(x,\n",
    "                                             F,\n",
    "                                             df['strike'],\n",
    "                                             df['price'],\n",
    "                                             r,\n",
    "                                             T),\n",
    "                    initialGuess)\n",
    "\n",
    "\n",
    "beta = res.x[0]\n",
    "\n",
    "print('Calibrated Displaced-Diffusion model parameters: sigma = %.4f, beta = %.4f' % (vol_ATM, beta))\n"
   ]
  },
  {
   "cell_type": "code",
   "execution_count": 43,
   "metadata": {},
   "outputs": [],
   "source": [
    "# generate prices using Displaced-Diffusion model based on calibrated beta\n",
    "OTM_df['dd_prices'] = np.vectorize(displaced_diffusion_price)(F,\n",
    "                                              OTM_df.strike,\n",
    "                                              r,\n",
    "                                              vol_ATM,\n",
    "                                              T,\n",
    "                                              beta) \n"
   ]
  },
  {
   "cell_type": "code",
   "execution_count": 44,
   "metadata": {},
   "outputs": [],
   "source": [
    "# generate implied vol of Displaced-Diffusion model using inverse function of Black76 model\n",
    "OTM_df['dd_impliedvol'] = np.vectorize(implied_vol_black76)(F,\n",
    "                                                    OTM_df.strike,\n",
    "                                                    r,\n",
    "                                                    OTM_df.dd_prices,\n",
    "                                                    T)"
   ]
  },
  {
   "cell_type": "markdown",
   "metadata": {},
   "source": [
    "### checkpoint:\n",
    "- note that implied vol using Black76 is used here since S (846.9) exceeds strike of 850 when taking the forward price.\n",
    "- so when applying the price matching (displaced diffusion so it'll be from F's perspective), it'd be using put option to price. \n",
    "- but when implying the vol, it'll be using call to imply (if using black-scholes which uses S)"
   ]
  },
  {
   "cell_type": "code",
   "execution_count": 45,
   "metadata": {},
   "outputs": [
    {
     "data": {
      "image/png": "[encoded data removed]",
      "text/plain": [
       "<Figure size 720x576 with 1 Axes>"
      ]
     },
     "metadata": {
      "needs_background": "light"
     },
     "output_type": "display_data"
    }
   ],
   "source": [
    "# plot results of both market-implied and displaced-diffusion model implied vol smile\n",
    "plt.figure(figsize = (10,8))\n",
    "plt.hlines(vol_ATM, xmin = OTM_df.strike.min(), xmax = OTM_df.strike.max(), linestyles = '--', label = 'Black-Scholes Implied Vol smile')\n",
    "plt.plot(OTM_df.strike, OTM_df.dd_impliedvol, label = 'Displaced-Diffusion Model Implied Vol Smile')\n",
    "plt.plot(OTM_df.strike, OTM_df.bachelier_impliedvol, label = 'Bachelier Implied Vol Smile')\n",
    "plt.scatter(OTM_df.strike, OTM_df.impliedvol, label = 'Market-Implied Vol Smile')\n",
    "plt.title('Volatility Smile: Displaced-Diffusion Model Calibration')\n",
    "plt.xlabel('Strike')\n",
    "plt.ylabel('Implied Volatility')\n",
    "plt.legend();"
   ]
  },
  {
   "cell_type": "markdown",
   "metadata": {},
   "source": [
    "#### Varying Beta Test:"
   ]
  },
  {
   "cell_type": "code",
   "execution_count": 46,
   "metadata": {},
   "outputs": [],
   "source": [
    "beta_start = 0.001\n",
    "beta_stop = 1\n",
    "beta_step = 0.2\n",
    "\n",
    "beta_range = np.arange(beta_start, beta_stop + beta_step, beta_step)"
   ]
  },
  {
   "cell_type": "code",
   "execution_count": 47,
   "metadata": {},
   "outputs": [],
   "source": [
    "results_dd = []\n",
    "for beta in beta_range:\n",
    "    dd_prices_test = np.vectorize(displaced_diffusion_price)(OTM_df.forward_price,\n",
    "                                                             OTM_df.strike,\n",
    "                                                             r,\n",
    "                                                             vol_ATM,\n",
    "                                                             T,\n",
    "                                                             beta)\n",
    "\n",
    "    results_dd.append(np.vectorize(implied_vol_black76)(F,\n",
    "                                             OTM_df.strike,\n",
    "                                             r,\n",
    "                                             dd_prices_test,\n",
    "                                             T))\n",
    "results_dd_df = pd.DataFrame(np.array(results_dd).T, columns = beta_range, index = OTM_df.strike)\n",
    "                      "
   ]
  },
  {
   "cell_type": "code",
   "execution_count": 48,
   "metadata": {},
   "outputs": [
    {
     "data": {
      "image/png": "[encoded data removed]",
      "text/plain": [
       "<Figure size 720x576 with 1 Axes>"
      ]
     },
     "metadata": {
      "needs_background": "light"
     },
     "output_type": "display_data"
    }
   ],
   "source": [
    "plt.figure(figsize = (10,8))\n",
    "plt.plot(results_dd_df)\n",
    "plt.legend(beta_range)\n",
    "plt.title('Displaced-Diffusion Implied Volatility')\n",
    "plt.xlabel('Strike')\n",
    "plt.ylabel('Implied Volatility');"
   ]
  },
  {
   "cell_type": "markdown",
   "metadata": {},
   "source": [
    "### Interpretation of beta:\n",
    "- beta measures the extent to which the model follows a lognormal distribution\n",
    "- as beta increases from 0 (exclusive) to 1 (inclusive), the model becomes more lognormal in nature"
   ]
  },
  {
   "cell_type": "markdown",
   "metadata": {},
   "source": [
    "### SABR Calibration"
   ]
  },
  {
   "cell_type": "code",
   "execution_count": 49,
   "metadata": {},
   "outputs": [],
   "source": [
    "import pandas\n",
    "import numpy as np\n",
    "from scipy.stats import norm\n",
    "from scipy.optimize import brentq\n",
    "import matplotlib.pylab as plt\n",
    "\n",
    "\n",
    "def SABR(F, K, T, alpha, beta, rho, nu):\n",
    "    X = K\n",
    "    # if K is at-the-money-forward\n",
    "    if abs(F - K) < 1e-12:\n",
    "        numer1 = (((1 - beta)**2)/24)*alpha*alpha/(F**(2 - 2*beta))\n",
    "        numer2 = 0.25*rho*beta*nu*alpha/(F**(1 - beta))\n",
    "        numer3 = ((2 - 3*rho*rho)/24)*nu*nu\n",
    "        VolAtm = alpha*(1 + (numer1 + numer2 + numer3)*T)/(F**(1-beta))\n",
    "        sabrsigma = VolAtm\n",
    "    else:\n",
    "        z = (nu/alpha)*((F*X)**(0.5*(1-beta)))*np.log(F/X)\n",
    "        zhi = np.log((((1 - 2*rho*z + z*z)**0.5) + z - rho)/(1 - rho))\n",
    "        numer1 = (((1 - beta)**2)/24)*((alpha*alpha)/((F*X)**(1 - beta)))\n",
    "        numer2 = 0.25*rho*beta*nu*alpha/((F*X)**((1 - beta)/2))\n",
    "        numer3 = ((2 - 3*rho*rho)/24)*nu*nu\n",
    "        numer = alpha*(1 + (numer1 + numer2 + numer3)*T)*z\n",
    "        denom1 = ((1 - beta)**2/24)*(np.log(F/X))**2\n",
    "        denom2 = (((1 - beta)**4)/1920)*((np.log(F/X))**4)\n",
    "        denom = ((F*X)**((1 - beta)/2))*(1 + denom1 + denom2)*zhi\n",
    "        sabrsigma = numer/denom\n",
    "\n",
    "    return sabrsigma"
   ]
  },
  {
   "cell_type": "code",
   "execution_count": 50,
   "metadata": {},
   "outputs": [
    {
     "name": "stdout",
     "output_type": "stream",
     "text": [
      "Calibrated SABR model parameters: alpha = 0.990, beta = 0.800, rho = -0.284, nu = 0.354\n"
     ]
    }
   ],
   "source": [
    "from scipy.optimize import least_squares\n",
    "\n",
    "def sabrcalibration(x, strikes, vols, F, T):\n",
    "    err = 0.0\n",
    "    for i, vol in enumerate(vols):\n",
    "        err += (vol - SABR(F, strikes[i], T,\n",
    "                           x[0], beta_SABR, x[1], x[2]))**2\n",
    "\n",
    "    return err\n",
    "\n",
    "\n",
    "#####\n",
    "# Here, load DataFrame with strike and implied volatility information into \"df\"\n",
    "#####\n",
    "\n",
    "df = OTM_df\n",
    "\n",
    "# populate \"df\" with the dataframe containing strikes and market implied volatilities\n",
    "\n",
    "initialGuess = [0.02, 0.2, 0.1]\n",
    "res = least_squares(lambda x: sabrcalibration(x,\n",
    "                                              df['strike'],\n",
    "                                              df['impliedvol'],\n",
    "                                              F,\n",
    "                                              T),\n",
    "                    initialGuess)\n",
    "alpha = res.x[0]\n",
    "rho = res.x[1]\n",
    "nu = res.x[2]\n",
    "\n",
    "print('Calibrated SABR model parameters: alpha = %.3f, beta = %.3f, rho = %.3f, nu = %.3f' % (alpha, beta_SABR, rho, nu))"
   ]
  },
  {
   "cell_type": "code",
   "execution_count": 51,
   "metadata": {},
   "outputs": [],
   "source": [
    "OTM_df['SABR_impliedvol'] = np.vectorize(SABR)(F,\n",
    "                                               OTM_df['strike'],\n",
    "                                               T,\n",
    "                                               alpha, beta_SABR, rho, nu)"
   ]
  },
  {
   "cell_type": "code",
   "execution_count": 52,
   "metadata": {},
   "outputs": [
    {
     "data": {
      "image/png": "[encoded data removed]",
      "text/plain": [
       "<Figure size 720x576 with 1 Axes>"
      ]
     },
     "metadata": {
      "needs_background": "light"
     },
     "output_type": "display_data"
    }
   ],
   "source": [
    "# plot results of both market-implied and SABR model implied vol smile\n",
    "plt.figure(figsize = (10,8))\n",
    "plt.hlines(vol_ATM, xmin = OTM_df.strike.min(), xmax = OTM_df.strike.max(), linestyles = '--', label = 'Black-Scholes Implied Vol smile')\n",
    "plt.plot(OTM_df.strike, OTM_df.bachelier_impliedvol, label = 'Bachelier Implied Vol Smile')\n",
    "plt.plot(OTM_df.strike, OTM_df.dd_impliedvol, label = 'Displaced-Diffusion Model Implied Vol Smile')\n",
    "plt.plot(OTM_df.strike, OTM_df.SABR_impliedvol, label = 'SABR Model Implied Vol Smile')\n",
    "plt.scatter(OTM_df.strike, OTM_df.impliedvol, label = 'Market-Implied Vol Smile')\n",
    "plt.title('Implied Volatility Smile: SABR Model Calibration')\n",
    "plt.xlabel('Strike')\n",
    "plt.ylabel('Implied Volatility')\n",
    "plt.legend();"
   ]
  },
  {
   "cell_type": "code",
   "execution_count": 53,
   "metadata": {},
   "outputs": [],
   "source": [
    "# rho range\n",
    "rho_start = -0.8\n",
    "rho_stop = 0.8\n",
    "rho_step = 0.4\n",
    "\n",
    "rho_range = np.arange(rho_start, rho_stop + rho_step, rho_step)\n",
    "\n",
    "# nu range\n",
    "nu_start = 0.001\n",
    "nu_stop = 1\n",
    "nu_step = 0.2\n",
    "\n",
    "nu_range = np.arange(nu_start, nu_stop + nu_step, nu_step)"
   ]
  },
  {
   "cell_type": "code",
   "execution_count": 54,
   "metadata": {},
   "outputs": [],
   "source": [
    "results_rho_sabr = []\n",
    "for rho_ in rho_range:\n",
    "    results_rho_sabr.append(np.vectorize(SABR)(F,\n",
    "                                               OTM_df.strike,\n",
    "                                               T,\n",
    "                                               alpha,\n",
    "                                               beta_SABR,\n",
    "                                               rho_,\n",
    "                                               nu))\n",
    "                                               \n",
    "results_rho_sabr_df = pd.DataFrame(np.array(results_rho_sabr).T, columns = rho_range, index = OTM_df.strike)\n",
    "                            "
   ]
  },
  {
   "cell_type": "code",
   "execution_count": 55,
   "metadata": {},
   "outputs": [
    {
     "data": {
      "image/png": "[encoded data removed]",
      "text/plain": [
       "<Figure size 720x576 with 1 Axes>"
      ]
     },
     "metadata": {
      "needs_background": "light"
     },
     "output_type": "display_data"
    }
   ],
   "source": [
    "plt.figure(figsize = (10,8))\n",
    "plt.plot(results_rho_sabr_df)\n",
    "plt.legend(rho_range)\n",
    "plt.title('SABR Implied Volatility')\n",
    "plt.xlabel('Strike')\n",
    "plt.ylabel('Implied Volatility');"
   ]
  },
  {
   "cell_type": "markdown",
   "metadata": {},
   "source": [
    "### Interpretation:\n",
    "- rho controls the skewness of the implied volatility smile"
   ]
  },
  {
   "cell_type": "code",
   "execution_count": 56,
   "metadata": {},
   "outputs": [],
   "source": [
    "results_nu_sabr = []\n",
    "for nu_ in nu_range:\n",
    "    results_nu_sabr.append(np.vectorize(SABR)(F,\n",
    "                                               OTM_df.strike,\n",
    "                                               T,\n",
    "                                               alpha,\n",
    "                                               beta_SABR,\n",
    "                                               rho,\n",
    "                                               nu_))\n",
    "                                               \n",
    "results_nu_sabr_df = pd.DataFrame(np.array(results_nu_sabr).T, columns = nu_range, index = OTM_df.strike)\n",
    "                            "
   ]
  },
  {
   "cell_type": "code",
   "execution_count": 57,
   "metadata": {},
   "outputs": [
    {
     "data": {
      "image/png": "[encoded data removed]",
      "text/plain": [
       "<Figure size 720x576 with 1 Axes>"
      ]
     },
     "metadata": {
      "needs_background": "light"
     },
     "output_type": "display_data"
    }
   ],
   "source": [
    "plt.figure(figsize = (10,8))\n",
    "plt.plot(results_nu_sabr_df)\n",
    "plt.legend(nu_range)\n",
    "plt.title('SABR Implied Volatility')\n",
    "plt.xlabel('Strike')\n",
    "plt.ylabel('Implied Volatility');"
   ]
  },
  {
   "cell_type": "markdown",
   "metadata": {},
   "source": [
    "### Interpretation:\n",
    "- nu is the volatility of volatility\n",
    "- controls the extreme ends of the implied volatility smile\n",
    "- the higher nu is, the higher the implied vol at the extreme ends will be"
   ]
  },
  {
   "cell_type": "code",
   "execution_count": null,
   "metadata": {},
   "outputs": [],
   "source": []
  }
 ],
 "metadata": {
  "kernelspec": {
   "display_name": "Python 3",
   "language": "python",
   "name": "python3"
  },
  "language_info": {
   "codemirror_mode": {
    "name": "ipython",
    "version": 3
   },
   "file_extension": ".py",
   "mimetype": "text/x-python",
   "name": "python",
   "nbconvert_exporter": "python",
   "pygments_lexer": "ipython3",
   "version": "3.8.3"
  }
 },
 "nbformat": 4,
 "nbformat_minor": 4
}
