{
 "cells": [
  {
   "cell_type": "code",
   "execution_count": 2,
   "metadata": {},
   "outputs": [],
   "source": [
    "import pandas as pd\n",
    "import numpy as np\n",
    "import matplotlib.pyplot as plt\n",
    "from scipy.optimize import brentq, fsolve\n",
    "import math\n",
    "\n",
    "%matplotlib inline"
   ]
  },
  {
   "cell_type": "markdown",
   "metadata": {},
   "source": [
    "Part 1.1"
   ]
  },
  {
   "cell_type": "code",
   "execution_count": 3,
   "metadata": {},
   "outputs": [],
   "source": [
    "fn = 'IR Data.xlsx'"
   ]
  },
  {
   "cell_type": "code",
   "execution_count": 4,
   "metadata": {},
   "outputs": [],
   "source": [
    "ois = pd.read_excel(fn, header = 0, sheet_name = 'OIS')"
   ]
  },
  {
   "cell_type": "code",
   "execution_count": 5,
   "metadata": {},
   "outputs": [],
   "source": [
    "ois['years'] = ois.Tenor.apply(lambda x: float(str(x)[:-1]) if x != '6m' else 0.5)\n",
    "month_days, year_days = (ois.iloc[0,5]).split('/')\n",
    "month_days, year_days = float(month_days) , float(year_days)"
   ]
  },
  {
   "cell_type": "code",
   "execution_count": 6,
   "metadata": {
    "scrolled": true
   },
   "outputs": [
    {
     "data": {
      "text/html": [
       "<div>\n",
       "<style scoped>\n",
       "    .dataframe tbody tr th:only-of-type {\n",
       "        vertical-align: middle;\n",
       "    }\n",
       "\n",
       "    .dataframe tbody tr th {\n",
       "        vertical-align: top;\n",
       "    }\n",
       "\n",
       "    .dataframe thead th {\n",
       "        text-align: right;\n",
       "    }\n",
       "</style>\n",
       "<table border=\"1\" class=\"dataframe\">\n",
       "  <thead>\n",
       "    <tr style=\"text-align: right;\">\n",
       "      <th></th>\n",
       "      <th>Tenor</th>\n",
       "      <th>Product</th>\n",
       "      <th>Rate</th>\n",
       "      <th>Unnamed: 3</th>\n",
       "      <th>Unnamed: 4</th>\n",
       "      <th>Unnamed: 5</th>\n",
       "      <th>years</th>\n",
       "    </tr>\n",
       "  </thead>\n",
       "  <tbody>\n",
       "    <tr>\n",
       "      <th>0</th>\n",
       "      <td>6m</td>\n",
       "      <td>OIS</td>\n",
       "      <td>0.00250</td>\n",
       "      <td>NaN</td>\n",
       "      <td>Day Count Convention</td>\n",
       "      <td>30/360</td>\n",
       "      <td>0.5</td>\n",
       "    </tr>\n",
       "    <tr>\n",
       "      <th>1</th>\n",
       "      <td>1y</td>\n",
       "      <td>OIS</td>\n",
       "      <td>0.00300</td>\n",
       "      <td>NaN</td>\n",
       "      <td>O/N Leg Frequency</td>\n",
       "      <td>Daily</td>\n",
       "      <td>1.0</td>\n",
       "    </tr>\n",
       "    <tr>\n",
       "      <th>2</th>\n",
       "      <td>2y</td>\n",
       "      <td>OIS</td>\n",
       "      <td>0.00325</td>\n",
       "      <td>NaN</td>\n",
       "      <td>Fixed Leg Frequency</td>\n",
       "      <td>Annual</td>\n",
       "      <td>2.0</td>\n",
       "    </tr>\n",
       "    <tr>\n",
       "      <th>3</th>\n",
       "      <td>3y</td>\n",
       "      <td>OIS</td>\n",
       "      <td>0.00335</td>\n",
       "      <td>NaN</td>\n",
       "      <td>NaN</td>\n",
       "      <td>NaN</td>\n",
       "      <td>3.0</td>\n",
       "    </tr>\n",
       "    <tr>\n",
       "      <th>4</th>\n",
       "      <td>4y</td>\n",
       "      <td>OIS</td>\n",
       "      <td>0.00350</td>\n",
       "      <td>NaN</td>\n",
       "      <td>NaN</td>\n",
       "      <td>NaN</td>\n",
       "      <td>4.0</td>\n",
       "    </tr>\n",
       "    <tr>\n",
       "      <th>5</th>\n",
       "      <td>5y</td>\n",
       "      <td>OIS</td>\n",
       "      <td>0.00360</td>\n",
       "      <td>NaN</td>\n",
       "      <td>NaN</td>\n",
       "      <td>NaN</td>\n",
       "      <td>5.0</td>\n",
       "    </tr>\n",
       "    <tr>\n",
       "      <th>6</th>\n",
       "      <td>7y</td>\n",
       "      <td>OIS</td>\n",
       "      <td>0.00400</td>\n",
       "      <td>NaN</td>\n",
       "      <td>NaN</td>\n",
       "      <td>NaN</td>\n",
       "      <td>7.0</td>\n",
       "    </tr>\n",
       "    <tr>\n",
       "      <th>7</th>\n",
       "      <td>10y</td>\n",
       "      <td>OIS</td>\n",
       "      <td>0.00450</td>\n",
       "      <td>NaN</td>\n",
       "      <td>NaN</td>\n",
       "      <td>NaN</td>\n",
       "      <td>10.0</td>\n",
       "    </tr>\n",
       "    <tr>\n",
       "      <th>8</th>\n",
       "      <td>15y</td>\n",
       "      <td>OIS</td>\n",
       "      <td>0.00500</td>\n",
       "      <td>NaN</td>\n",
       "      <td>NaN</td>\n",
       "      <td>NaN</td>\n",
       "      <td>15.0</td>\n",
       "    </tr>\n",
       "    <tr>\n",
       "      <th>9</th>\n",
       "      <td>20y</td>\n",
       "      <td>OIS</td>\n",
       "      <td>0.00525</td>\n",
       "      <td>NaN</td>\n",
       "      <td>NaN</td>\n",
       "      <td>NaN</td>\n",
       "      <td>20.0</td>\n",
       "    </tr>\n",
       "    <tr>\n",
       "      <th>10</th>\n",
       "      <td>30y</td>\n",
       "      <td>OIS</td>\n",
       "      <td>0.00550</td>\n",
       "      <td>NaN</td>\n",
       "      <td>NaN</td>\n",
       "      <td>NaN</td>\n",
       "      <td>30.0</td>\n",
       "    </tr>\n",
       "  </tbody>\n",
       "</table>\n",
       "</div>"
      ],
      "text/plain": [
       "   Tenor Product     Rate  Unnamed: 3            Unnamed: 4 Unnamed: 5  years\n",
       "0     6m     OIS  0.00250         NaN  Day Count Convention     30/360    0.5\n",
       "1     1y     OIS  0.00300         NaN     O/N Leg Frequency      Daily    1.0\n",
       "2     2y     OIS  0.00325         NaN   Fixed Leg Frequency     Annual    2.0\n",
       "3     3y     OIS  0.00335         NaN                   NaN        NaN    3.0\n",
       "4     4y     OIS  0.00350         NaN                   NaN        NaN    4.0\n",
       "5     5y     OIS  0.00360         NaN                   NaN        NaN    5.0\n",
       "6     7y     OIS  0.00400         NaN                   NaN        NaN    7.0\n",
       "7    10y     OIS  0.00450         NaN                   NaN        NaN   10.0\n",
       "8    15y     OIS  0.00500         NaN                   NaN        NaN   15.0\n",
       "9    20y     OIS  0.00525         NaN                   NaN        NaN   20.0\n",
       "10   30y     OIS  0.00550         NaN                   NaN        NaN   30.0"
      ]
     },
     "execution_count": 6,
     "metadata": {},
     "output_type": "execute_result"
    }
   ],
   "source": [
    "ois"
   ]
  },
  {
   "cell_type": "code",
   "execution_count": 7,
   "metadata": {},
   "outputs": [],
   "source": [
    "tenor_list = list(ois.years.values)\n",
    "rates_list = list(ois.Rate.values)\n",
    "ON_leg_freq, fixed_leg_freq = ois.iloc[[1,2], 5]"
   ]
  },
  {
   "cell_type": "code",
   "execution_count": 9,
   "metadata": {},
   "outputs": [
    {
     "data": {
      "text/plain": [
       "[0.5, 1.0, 2.0, 3.0, 4.0, 5.0, 7.0, 10.0, 15.0, 20.0, 30.0]"
      ]
     },
     "execution_count": 9,
     "metadata": {},
     "output_type": "execute_result"
    }
   ],
   "source": [
    "tenor_list"
   ]
  },
  {
   "cell_type": "code",
   "execution_count": 10,
   "metadata": {},
   "outputs": [
    {
     "data": {
      "text/plain": [
       "[1, 1, 1, 1, 1, 2, 3, 5, 5, 10]"
      ]
     },
     "execution_count": 10,
     "metadata": {},
     "output_type": "execute_result"
    }
   ],
   "source": [
    "tenor_diff = [math.ceil(tenor_list[i+1] - tenor_list[i]) for i in range(len(tenor_list)-1)]\n",
    "tenor_diff"
   ]
  },
  {
   "cell_type": "code",
   "execution_count": 434,
   "metadata": {},
   "outputs": [],
   "source": [
    "def interp(previous, current, steps):\n",
    "    values = []\n",
    "    steps = int(steps)\n",
    "    for i in range(steps):\n",
    "        values.append(((i+1)/(steps)) * (current - previous) + previous)\n",
    "\n",
    "    return values"
   ]
  },
  {
   "cell_type": "code",
   "execution_count": 109,
   "metadata": {},
   "outputs": [],
   "source": [
    "def discount_from_ois(x, DF, year_days, tenor_list, float_list, rates_list, delta, ois, missing_tenors, tenor_DF):\n",
    "\n",
    "    tenor_diff = [math.ceil(tenor_list[i+1] - tenor_list[i]) for i in range(len(tenor_list)-1)]\n",
    "    \n",
    "    known = np.array([DF[i+1] * (((1 + (float_list[i+1]/year_days))**(year_days)) - 1) for i in range(len(DF)-1)])\n",
    "    \n",
    "    # float rate across the tenor\n",
    "#     float_n = (((DF[-1]/x) ** (1/(tenor_diff[len(tenor_DF) - 1]* delta * year_days))) - 1) * year_days\n",
    "\n",
    "    DF_update = np.array(interp(DF[-1], x, (missing_tenors + 1))) # generated interpolated and latest discount factors\n",
    "\n",
    "    # here, float rates are calculated starting from the difference between two discount factors. e.g. f1 calculated from D(0,1) and D(0,2)\n",
    "    float_rates = np.array([(((DF[-1]/DF_update[i])**(1/(delta * year_days)) - 1) * year_days) if i==0 else \\\n",
    "                            (((DF_update[i-1]/DF_update[i])**(1/(delta * year_days)) - 1) * year_days)\\\n",
    "                            for i in range(len(DF_update))]) #obtain float rates for interpolated discount factors\n",
    "\n",
    "#     unknown = new_DFs_sum * (((1 + float_n/year_days)**(year_days)) - 1) # each discount factor applied to float rate (assumed constant)\n",
    "    unknown = np.array([DF_update[i] * ((1 + float_rates[i]/year_days)** (delta * year_days) - 1) for i in range(len(DF_update))]).sum()\n",
    "\n",
    "    DF_sum = np.array(DF[1:]).sum() #exclude tenor of 0.5year\n",
    "    \n",
    "    float_leg = known.sum() + unknown\n",
    "    fixed_leg = delta * ois * (DF_sum + DF_update.sum())\n",
    "\n",
    "    return float_leg - fixed_leg"
   ]
  },
  {
   "cell_type": "code",
   "execution_count": 110,
   "metadata": {},
   "outputs": [],
   "source": [
    "def ois_df_bootstrap(tenor_list,\n",
    "                     rates_list,\n",
    "                     fixed_leg_freq,\n",
    "                     day_count_convention):\n",
    "    \n",
    "    month_days, year_days = (day_count_convention).split('/')\n",
    "    month_days, year_days = float(month_days) , float(year_days)\n",
    "    \n",
    "    \n",
    "    if (fixed_leg_freq == 'Annual'):\n",
    "        delta = 1\n",
    "    \n",
    "    tenor_DF = []\n",
    "    tenor_float_rates = []\n",
    "    \n",
    "    DF = []\n",
    "    float_list = []\n",
    "    \n",
    "    previous_tenor = 1 # not used for tenors <= 1\n",
    "    \n",
    "    for tenor in tenor_list:\n",
    "        if (tenor <= 1):\n",
    "            ois = rates_list[tenor_list.index(tenor)]\n",
    "            \n",
    "            float_rate = ((tenor * ois + 1) ** (1/(tenor * year_days)) - 1) * year_days\n",
    "            \n",
    "            DF_tenor = 1/((1 + tenor * ois))\n",
    "\n",
    "            float_list.append(float_rate)\n",
    "            DF.append(DF_tenor)\n",
    "            \n",
    "            tenor_DF.append(DF_tenor)\n",
    "            tenor_float_rates.append(float_rate)\n",
    "\n",
    "        elif tenor > 1:\n",
    "            \n",
    "            tenor_diff = tenor - previous_tenor\n",
    "            missing_tenors = int(tenor_diff/delta - 1)\n",
    "            \n",
    "            ois = rates_list[tenor_list.index(tenor)]\n",
    "        \n",
    "            f = lambda x: discount_from_ois(x, DF, year_days, tenor_list, float_list, rates_list, delta, ois, missing_tenors, tenor_DF)\n",
    "            current_DF = brentq(f, 0.1, 1)\n",
    "\n",
    "\n",
    "            tenor_diff = [math.ceil(tenor_list[i+1] - tenor_list[i]) for i in range(len(tenor_list)-1)]\n",
    "#             float_rate = (((DF[-1]/current_DF) ** (1/(tenor_diff[len(tenor_DF) - 1] * year_days))) - 1) * year_days\n",
    "            \n",
    "            DF_update = interp(DF[-1], current_DF, missing_tenors + 1) # list of missing tenors and latest tenor discount factors\n",
    "            float_rates_update = np.array([((DF[-1]/DF_update[i])**(1/(delta * year_days)) - 1) * year_days if i==0 else \\\n",
    "                                           (((DF_update[i-1]/DF_update[i])**(1/(delta * year_days)) - 1) * year_days) \\\n",
    "                                           for i in range(len(DF_update))])\n",
    "            \n",
    "            \n",
    "            # append same float rates based on missing tenors to match float_list and DF shape\n",
    "            # since floating rate assumed to be constant between tenors\n",
    "            for j in range(len(float_rates_update)):\n",
    "                float_list.append(float_rates_update[j])\n",
    "            \n",
    "            DF = DF + DF_update\n",
    "#             DF.append(current_DF)\n",
    "            \n",
    "            # store DF and float rates that are for the relevant tenors only (excludes interpolated results)\n",
    "            tenor_DF.append(current_DF)\n",
    "            tenor_float_rates.append(float_rates_update[-1])\n",
    "            \n",
    "            previous_tenor = tenor\n",
    "#             print(len(float_list), len(DF)) # should give the same length\n",
    "            \n",
    "    return tenor_DF, DF, tenor_float_rates, float_list"
   ]
  },
  {
   "cell_type": "code",
   "execution_count": 111,
   "metadata": {},
   "outputs": [],
   "source": [
    "day_count_convention = ois.iloc[0,5]"
   ]
  },
  {
   "cell_type": "code",
   "execution_count": 112,
   "metadata": {},
   "outputs": [],
   "source": [
    "tenor_ois_DF, ois_DF, tenor_float_list, float_list = ois_df_bootstrap(tenor_list, rates_list, fixed_leg_freq, day_count_convention)"
   ]
  },
  {
   "cell_type": "code",
   "execution_count": 113,
   "metadata": {},
   "outputs": [
    {
     "data": {
      "text/plain": [
       "[0.9987515605493134,\n",
       " 0.9970089730807579,\n",
       " 0.993530745913246,\n",
       " 0.9900151412182416,\n",
       " 0.9861166497151829,\n",
       " 0.9821841197331824,\n",
       " 0.9724057745942708,\n",
       " 0.9559768785261538,\n",
       " 0.9276114796053047,\n",
       " 0.9000759370412345,\n",
       " 0.8474067157361065]"
      ]
     },
     "execution_count": 113,
     "metadata": {},
     "output_type": "execute_result"
    }
   ],
   "source": [
    "tenor_ois_DF"
   ]
  },
  {
   "cell_type": "code",
   "execution_count": 114,
   "metadata": {},
   "outputs": [
    {
     "data": {
      "text/plain": [
       "[0.9987515605493134,\n",
       " 0.9970089730807579,\n",
       " 0.993530745913246,\n",
       " 0.9900151412182416,\n",
       " 0.9861166497151829,\n",
       " 0.9821841197331824,\n",
       " 0.9772949471637267,\n",
       " 0.9724057745942708,\n",
       " 0.9669294759048984,\n",
       " 0.9614531772155261,\n",
       " 0.9559768785261538,\n",
       " 0.9503037987419839,\n",
       " 0.9446307189578141,\n",
       " 0.9389576391736443,\n",
       " 0.9332845593894745,\n",
       " 0.9276114796053047,\n",
       " 0.9221043710924907,\n",
       " 0.9165972625796766,\n",
       " 0.9110901540668626,\n",
       " 0.9055830455540484,\n",
       " 0.9000759370412345,\n",
       " 0.8948090149107216,\n",
       " 0.8895420927802089,\n",
       " 0.8842751706496961,\n",
       " 0.8790082485191832,\n",
       " 0.8737413263886704,\n",
       " 0.8684744042581577,\n",
       " 0.8632074821276449,\n",
       " 0.857940559997132,\n",
       " 0.8526736378666193,\n",
       " 0.8474067157361065]"
      ]
     },
     "execution_count": 114,
     "metadata": {},
     "output_type": "execute_result"
    }
   ],
   "source": [
    "ois_DF"
   ]
  },
  {
   "cell_type": "code",
   "execution_count": 115,
   "metadata": {},
   "outputs": [
    {
     "data": {
      "text/plain": [
       "[0.0024984474705913584,\n",
       " 0.0029955214424148835,\n",
       " 0.0034947783831640322,\n",
       " 0.0035447888626816138,\n",
       " 0.003945605189130674,\n",
       " 0.0039958903644343735,\n",
       " 0.004990322872213682,\n",
       " 0.005015351145907232,\n",
       " 0.005647663238992351,\n",
       " 0.005679740586810311,\n",
       " 0.005712184400126219,\n",
       " 0.0059520546976710165,\n",
       " 0.005987693885032286,\n",
       " 0.006023762438935876,\n",
       " 0.006060268165777316,\n",
       " 0.006097219062120018,\n",
       " 0.005954612248322277,\n",
       " 0.005990282161905114,\n",
       " 0.0060263819991046574,\n",
       " 0.006062919579745696,\n",
       " 0.006099902914540323,\n",
       " 0.005868877750740964,\n",
       " 0.0059035249167571635,\n",
       " 0.005938583595437308,\n",
       " 0.005974061161921895,\n",
       " 0.0060099651688894085,\n",
       " 0.006046303351432414,\n",
       " 0.006083083633132702,\n",
       " 0.006120314131337068,\n",
       " 0.006158003163472259,\n",
       " 0.006196159253120115]"
      ]
     },
     "execution_count": 115,
     "metadata": {},
     "output_type": "execute_result"
    }
   ],
   "source": [
    "float_list"
   ]
  },
  {
   "cell_type": "code",
   "execution_count": 116,
   "metadata": {},
   "outputs": [
    {
     "data": {
      "image/png": "[encoded data removed]",
      "text/plain": [
       "<Figure size 432x288 with 1 Axes>"
      ]
     },
     "metadata": {
      "needs_background": "light"
     },
     "output_type": "display_data"
    }
   ],
   "source": [
    "start, stop, step = 0, 30, 1\n",
    "t_range = np.arange(start, stop+step, step)\n",
    "plt.scatter(ois.years, tenor_ois_DF, c = 'red')\n",
    "# plt.plot(ois.years, tenor_ois_DF)\n",
    "plt.plot(t_range, ois_DF)\n",
    "plt.xlabel('Tenor (years)')\n",
    "plt.ylabel('Discount Factor (OIS)')\n",
    "plt.title('OIS Discount Factor Curve')\n",
    "plt.show()"
   ]
  },
  {
   "cell_type": "code",
   "execution_count": 126,
   "metadata": {},
   "outputs": [],
   "source": [
    "irs = pd.read_excel(fn, header = 0, sheet_name = 'IRS')"
   ]
  },
  {
   "cell_type": "code",
   "execution_count": 127,
   "metadata": {},
   "outputs": [],
   "source": [
    "irs['years'] = irs.Tenor.apply(lambda x: float(str(x)[:-1]) if x != '6m' else 0.5)\n",
    "month_days, year_days = (irs.iloc[0,5]).split('/')\n",
    "month_days, year_days = float(month_days) , float(year_days)"
   ]
  },
  {
   "cell_type": "code",
   "execution_count": 128,
   "metadata": {},
   "outputs": [
    {
     "data": {
      "text/html": [
       "<div>\n",
       "<style scoped>\n",
       "    .dataframe tbody tr th:only-of-type {\n",
       "        vertical-align: middle;\n",
       "    }\n",
       "\n",
       "    .dataframe tbody tr th {\n",
       "        vertical-align: top;\n",
       "    }\n",
       "\n",
       "    .dataframe thead th {\n",
       "        text-align: right;\n",
       "    }\n",
       "</style>\n",
       "<table border=\"1\" class=\"dataframe\">\n",
       "  <thead>\n",
       "    <tr style=\"text-align: right;\">\n",
       "      <th></th>\n",
       "      <th>Tenor</th>\n",
       "      <th>Product</th>\n",
       "      <th>Rate</th>\n",
       "      <th>Unnamed: 3</th>\n",
       "      <th>Unnamed: 4</th>\n",
       "      <th>Unnamed: 5</th>\n",
       "      <th>years</th>\n",
       "    </tr>\n",
       "  </thead>\n",
       "  <tbody>\n",
       "    <tr>\n",
       "      <th>0</th>\n",
       "      <td>6m</td>\n",
       "      <td>LIBOR</td>\n",
       "      <td>0.0250</td>\n",
       "      <td>NaN</td>\n",
       "      <td>Day Count Convention</td>\n",
       "      <td>30/360</td>\n",
       "      <td>0.5</td>\n",
       "    </tr>\n",
       "    <tr>\n",
       "      <th>1</th>\n",
       "      <td>1y</td>\n",
       "      <td>IRS</td>\n",
       "      <td>0.0280</td>\n",
       "      <td>NaN</td>\n",
       "      <td>Fixed Leg Freq</td>\n",
       "      <td>Semi-annual</td>\n",
       "      <td>1.0</td>\n",
       "    </tr>\n",
       "    <tr>\n",
       "      <th>2</th>\n",
       "      <td>2y</td>\n",
       "      <td>IRS</td>\n",
       "      <td>0.0300</td>\n",
       "      <td>NaN</td>\n",
       "      <td>Floating Leg Freq</td>\n",
       "      <td>Semi-annual</td>\n",
       "      <td>2.0</td>\n",
       "    </tr>\n",
       "    <tr>\n",
       "      <th>3</th>\n",
       "      <td>3y</td>\n",
       "      <td>IRS</td>\n",
       "      <td>0.0315</td>\n",
       "      <td>NaN</td>\n",
       "      <td>NaN</td>\n",
       "      <td>NaN</td>\n",
       "      <td>3.0</td>\n",
       "    </tr>\n",
       "    <tr>\n",
       "      <th>4</th>\n",
       "      <td>4y</td>\n",
       "      <td>IRS</td>\n",
       "      <td>0.0325</td>\n",
       "      <td>NaN</td>\n",
       "      <td>NaN</td>\n",
       "      <td>NaN</td>\n",
       "      <td>4.0</td>\n",
       "    </tr>\n",
       "    <tr>\n",
       "      <th>5</th>\n",
       "      <td>5y</td>\n",
       "      <td>IRS</td>\n",
       "      <td>0.0330</td>\n",
       "      <td>NaN</td>\n",
       "      <td>NaN</td>\n",
       "      <td>NaN</td>\n",
       "      <td>5.0</td>\n",
       "    </tr>\n",
       "    <tr>\n",
       "      <th>6</th>\n",
       "      <td>7y</td>\n",
       "      <td>IRS</td>\n",
       "      <td>0.0350</td>\n",
       "      <td>NaN</td>\n",
       "      <td>NaN</td>\n",
       "      <td>NaN</td>\n",
       "      <td>7.0</td>\n",
       "    </tr>\n",
       "    <tr>\n",
       "      <th>7</th>\n",
       "      <td>10y</td>\n",
       "      <td>IRS</td>\n",
       "      <td>0.0370</td>\n",
       "      <td>NaN</td>\n",
       "      <td>NaN</td>\n",
       "      <td>NaN</td>\n",
       "      <td>10.0</td>\n",
       "    </tr>\n",
       "    <tr>\n",
       "      <th>8</th>\n",
       "      <td>15y</td>\n",
       "      <td>IRS</td>\n",
       "      <td>0.0400</td>\n",
       "      <td>NaN</td>\n",
       "      <td>NaN</td>\n",
       "      <td>NaN</td>\n",
       "      <td>15.0</td>\n",
       "    </tr>\n",
       "    <tr>\n",
       "      <th>9</th>\n",
       "      <td>20y</td>\n",
       "      <td>IRS</td>\n",
       "      <td>0.0450</td>\n",
       "      <td>NaN</td>\n",
       "      <td>NaN</td>\n",
       "      <td>NaN</td>\n",
       "      <td>20.0</td>\n",
       "    </tr>\n",
       "    <tr>\n",
       "      <th>10</th>\n",
       "      <td>30y</td>\n",
       "      <td>IRS</td>\n",
       "      <td>0.0500</td>\n",
       "      <td>NaN</td>\n",
       "      <td>NaN</td>\n",
       "      <td>NaN</td>\n",
       "      <td>30.0</td>\n",
       "    </tr>\n",
       "  </tbody>\n",
       "</table>\n",
       "</div>"
      ],
      "text/plain": [
       "   Tenor Product    Rate  Unnamed: 3            Unnamed: 4   Unnamed: 5  years\n",
       "0     6m   LIBOR  0.0250         NaN  Day Count Convention       30/360    0.5\n",
       "1     1y     IRS  0.0280         NaN        Fixed Leg Freq  Semi-annual    1.0\n",
       "2     2y     IRS  0.0300         NaN     Floating Leg Freq  Semi-annual    2.0\n",
       "3     3y     IRS  0.0315         NaN                   NaN          NaN    3.0\n",
       "4     4y     IRS  0.0325         NaN                   NaN          NaN    4.0\n",
       "5     5y     IRS  0.0330         NaN                   NaN          NaN    5.0\n",
       "6     7y     IRS  0.0350         NaN                   NaN          NaN    7.0\n",
       "7    10y     IRS  0.0370         NaN                   NaN          NaN   10.0\n",
       "8    15y     IRS  0.0400         NaN                   NaN          NaN   15.0\n",
       "9    20y     IRS  0.0450         NaN                   NaN          NaN   20.0\n",
       "10   30y     IRS  0.0500         NaN                   NaN          NaN   30.0"
      ]
     },
     "execution_count": 128,
     "metadata": {},
     "output_type": "execute_result"
    }
   ],
   "source": [
    "irs"
   ]
  },
  {
   "cell_type": "markdown",
   "metadata": {},
   "source": [
    "Part 1.2"
   ]
  },
  {
   "cell_type": "code",
   "execution_count": 141,
   "metadata": {},
   "outputs": [],
   "source": [
    "# def discount_from_irs(DF, delta, missing_tenors, swap_rate, x):\n",
    "#     float_leg = 1 - x\n",
    "#     fixed_leg = delta * swap_rate * np.array((*DF, *interp(DF[-1], x, missing_tenors), x)).sum()\n",
    "\n",
    "#     return (float_leg - fixed_leg)"
   ]
  },
  {
   "cell_type": "code",
   "execution_count": 142,
   "metadata": {},
   "outputs": [],
   "source": [
    "# def df_bootstrap(tenor_list,\n",
    "#                  rates_list,\n",
    "#                  fixed_leg_freq,\n",
    "#                  floating_leg_freq):\n",
    "    \n",
    "#     DF = []\n",
    "    \n",
    "#     if (fixed_leg_freq == 'Semi-annual') and (floating_leg_freq == 'Semi-annual'):\n",
    "#         delta = 0.5\n",
    "    \n",
    "#     previous_tenor = 1\n",
    "    \n",
    "#     for tenor in tenor_list:\n",
    "\n",
    "#         if (tenor < 1) and (tenor == 0.5):\n",
    "#             libor = rates_list[tenor_list.index(tenor)]\n",
    "#             DF.append(1/((1 + libor*tenor)))\n",
    "        \n",
    "#         if (tenor == 1):\n",
    "#             swap_rate = rates_list[tenor_list.index(tenor)]\n",
    "#             numerator = 1 - swap_rate * delta * DF[0]\n",
    "#             denominator = 1 + delta * swap_rate\n",
    "#             DF.append(numerator/denominator)\n",
    "        \n",
    "#         elif tenor > 1:\n",
    "#             tenor_diff = tenor - previous_tenor\n",
    "#             missing_tenors = int(tenor_diff/delta - 1)\n",
    "\n",
    "#             swap_rate = rates_list[tenor_list.index(tenor)]\n",
    "            \n",
    "#             f = lambda x: discount_from_irs(DF, delta, missing_tenors, swap_rate, x)\n",
    "#             current_DF = brentq(f, 0, 1)\n",
    "\n",
    "#             DF = DF + interp(DF[-1], current_DF, missing_tenors)\n",
    "            \n",
    "#             DF.append(current_DF)\n",
    "                      \n",
    "#             previous_tenor = tenor\n",
    "                      \n",
    "    \n",
    "#     return DF"
   ]
  },
  {
   "cell_type": "code",
   "execution_count": 266,
   "metadata": {},
   "outputs": [],
   "source": [
    "import itertools\n",
    "\n",
    "def interp_ois_DF(tenor_ois_DF, tenor_list, new_delta, tenor_6m = True):\n",
    "    ''' tenor_6m == True means 0.5y tenor is in discount factor list'''\n",
    "    \n",
    "    tenor_diff = np.array([math.ceil(tenor_list[i+1] - tenor_list[i]) for i in range(len(tenor_list)-1)])\n",
    "    missing_tenors = (tenor_diff/new_delta - 1)\n",
    "    \n",
    "    if tenor_6m == True:\n",
    "        if new_delta == 0.5:\n",
    "\n",
    "            ois_DF_new = [[tenor_ois_DF[i]] if i <= 1 else \\\n",
    "                          interp(tenor_ois_DF[i-1], tenor_ois_DF[i], int(missing_tenors[i-1] + 1))\\\n",
    "                          for i in range(len(tenor_ois_DF))]\n",
    "    return list(itertools.chain(*ois_DF_new)) # unpack lists within"
   ]
  },
  {
   "cell_type": "code",
   "execution_count": 267,
   "metadata": {},
   "outputs": [],
   "source": [
    "def discount_from_irs(DF, float_rates, tenor_ois_DF, tenor_list, delta, missing_tenors, swap_rate, x):\n",
    "    \n",
    "    ois_DF_ = interp_ois_DF(tenor_ois_DF, tenor_list, delta) #obtain OIS discount factors for new delta\n",
    "\n",
    "    interp_libor_DF = interp(DF[-1], x, int(missing_tenors + 1)) # includes current_DF\n",
    "\n",
    "    unknown_float = [DF[-1]/interp_libor_DF[i] - 1 if i==0 else \\\n",
    "                    interp_libor_DF[i-1]/interp_libor_DF[i] - 1 \\\n",
    "                    for i in range(len(interp_libor_DF))] # use interpolated libor discount factors to calculate (delta * f)\n",
    "    \n",
    "    \n",
    "#     print(ois_DF_, unknown_float)\n",
    "    known = np.array([ois_DF_[i] * (delta * float_rates[i]) for i in range(len(DF))])\n",
    "    unknown = np.array([ois_DF_[j] * unknown_float[j - len(DF)] for j in range(len(DF), len(DF) + missing_tenors + 1)])\n",
    "\n",
    "    float_leg = known.sum() + unknown.sum()\n",
    "\n",
    "    fixed_leg = delta * swap_rate * np.array(ois_DF_[:(len(DF) + missing_tenors + 1)]).sum()\n",
    "#     print(fixed_leg)\n",
    "    return (float_leg - fixed_leg)"
   ]
  },
  {
   "cell_type": "code",
   "execution_count": 584,
   "metadata": {},
   "outputs": [],
   "source": [
    "def df_bootstrap(tenor_list,\n",
    "                 rates_list,\n",
    "                 fixed_leg_freq,\n",
    "                 floating_leg_freq,\n",
    "                 tenor_ois_DF):\n",
    "    \n",
    "    DF = []\n",
    "    float_rates = []\n",
    "    tenor_DF = []\n",
    "    \n",
    "    if (fixed_leg_freq == 'Semi-annual') and (floating_leg_freq == 'Semi-annual'):\n",
    "        delta = 0.5\n",
    "    \n",
    "    previous_tenor = 1\n",
    "    \n",
    "    for tenor in tenor_list:\n",
    "\n",
    "        if tenor == 0.5:\n",
    "            libor = rates_list[tenor_list.index(tenor)]            \n",
    "            DF_ = 1/((1 + libor*tenor))\n",
    "            \n",
    "            DF.append(DF_)\n",
    "            float_rates.append(libor)\n",
    "            tenor_DF.append(DF_)\n",
    "        \n",
    "        if (tenor == 1):\n",
    "            swap_rate = rates_list[tenor_list.index(tenor)]\n",
    "            \n",
    "            fixed_leg = swap_rate * delta * np.sum(tenor_ois_DF[:2])\n",
    "            first_float_leg = tenor_ois_DF[0] * float_rates[0] * delta\n",
    "            DF_ = DF[0]/(((fixed_leg - first_float_leg)/tenor_ois_DF[0]) + 1)\n",
    "            \n",
    "#             numerator = swap_rate * delta * DF[0]\n",
    "#             denominator = 1 + delta * swap_rate\n",
    "#             DF_ = numerator/denominator\n",
    "            float_ = (DF[0]/DF_ - 1)/delta\n",
    "            \n",
    "            DF.append(DF_)\n",
    "            float_rates.append(float_)\n",
    "            tenor_DF.append(DF_)\n",
    "        \n",
    "        elif tenor > 1:\n",
    "            tenor_diff = tenor - previous_tenor\n",
    "            missing_tenors = int(tenor_diff/delta - 1)\n",
    "\n",
    "            swap_rate = rates_list[tenor_list.index(tenor)]\n",
    "            \n",
    "            f = lambda x: discount_from_irs(DF, float_rates, tenor_ois_DF, tenor_list, delta, missing_tenors, swap_rate, x)\n",
    "            current_DF = brentq(f, 1e-4, 1)\n",
    "\n",
    "            DF_updates = interp(DF[-1], current_DF, int(missing_tenors + 1))\n",
    "            float_updates = [((DF[-1]/DF_updates[i] - 1)/delta) if i == 0 else \\\n",
    "                             ((DF_updates[i-1]/DF_updates[i] - 1)/delta) \\\n",
    "                             for i in range(len(DF_updates))]\n",
    "#             print(tenor, DF_updates)\n",
    "            DF = DF + DF_updates\n",
    "#             print(DF)\n",
    "            float_rates = float_rates + float_updates\n",
    "            tenor_DF.append(current_DF)\n",
    "            previous_tenor = tenor\n",
    "                      \n",
    "    return tenor_DF, DF, float_rates"
   ]
  },
  {
   "cell_type": "code",
   "execution_count": 585,
   "metadata": {},
   "outputs": [],
   "source": [
    "tenor_list = list(irs.years.values)\n",
    "rates_list = list(irs.Rate.values)\n",
    "fixed_leg_freq, floating_leg_freq = irs.iloc[[1,2], 5]"
   ]
  },
  {
   "cell_type": "code",
   "execution_count": 586,
   "metadata": {},
   "outputs": [],
   "source": [
    "tenor_libor_DF, libor_DF, libor_float_rates = df_bootstrap(tenor_list,\n",
    "                                           rates_list,\n",
    "                                           fixed_leg_freq,\n",
    "                                           floating_leg_freq,\n",
    "                                           tenor_ois_DF)"
   ]
  },
  {
   "cell_type": "code",
   "execution_count": 587,
   "metadata": {},
   "outputs": [
    {
     "data": {
      "text/plain": [
       "[0.9876543209876544,\n",
       " 0.9726027360730719,\n",
       " 0.957390844132509,\n",
       " 0.9421789521919461,\n",
       " 0.9263302163324262,\n",
       " 0.9104814804729062,\n",
       " 0.8947310548128958,\n",
       " 0.8789806291528854,\n",
       " 0.8639849349901336,\n",
       " 0.8489892408273818,\n",
       " 0.8327959671968931,\n",
       " 0.8166026935664044,\n",
       " 0.8004094199359157,\n",
       " 0.784216146305427,\n",
       " 0.768965171291724,\n",
       " 0.753714196278021,\n",
       " 0.7384632212643181,\n",
       " 0.7232122462506151,\n",
       " 0.7079612712369121,\n",
       " 0.6927102962232091,\n",
       " 0.6785473330342555,\n",
       " 0.6643843698453019,\n",
       " 0.6502214066563482,\n",
       " 0.6360584434673946,\n",
       " 0.621895480278441,\n",
       " 0.6077325170894874,\n",
       " 0.5935695539005338,\n",
       " 0.5794065907115801,\n",
       " 0.5652436275226265,\n",
       " 0.5510806643336729,\n",
       " 0.5367943539971657,\n",
       " 0.5225080436606584,\n",
       " 0.5082217333241512,\n",
       " 0.49393542298764403,\n",
       " 0.47964911265113686,\n",
       " 0.4653628023146296,\n",
       " 0.4510764919781224,\n",
       " 0.4367901816416152,\n",
       " 0.422503871305108,\n",
       " 0.4082175609686008,\n",
       " 0.39898980372127363,\n",
       " 0.38976204647394647,\n",
       " 0.3805342892266193,\n",
       " 0.37130653197929214,\n",
       " 0.362078774731965,\n",
       " 0.3528510174846378,\n",
       " 0.3436232602373107,\n",
       " 0.3343955029899835,\n",
       " 0.3251677457426564,\n",
       " 0.3159399884953292,\n",
       " 0.30671223124800207,\n",
       " 0.2974844740006749,\n",
       " 0.28825671675334774,\n",
       " 0.2790289595060206,\n",
       " 0.2698012022586934,\n",
       " 0.26057344501136626,\n",
       " 0.2513456877640391,\n",
       " 0.24211793051671193,\n",
       " 0.23289017326938477,\n",
       " 0.2236624160220576]"
      ]
     },
     "execution_count": 587,
     "metadata": {},
     "output_type": "execute_result"
    }
   ],
   "source": [
    "libor_DF"
   ]
  },
  {
   "cell_type": "code",
   "execution_count": 588,
   "metadata": {},
   "outputs": [
    {
     "data": {
      "image/png": "[encoded data removed]",
      "text/plain": [
       "<Figure size 432x288 with 1 Axes>"
      ]
     },
     "metadata": {
      "needs_background": "light"
     },
     "output_type": "display_data"
    }
   ],
   "source": [
    "start, stop, step = 0, 30, 0.5\n",
    "t_range = np.arange(start, stop+step, step)\n",
    "libor_DF_ = [1] + libor_DF\n",
    "plt.plot(t_range, libor_DF_)\n",
    "plt.scatter(tenor_list, tenor_libor_DF, c = 'red')\n",
    "plt.xlabel('Tenor (years)')\n",
    "plt.ylabel('Discount Factor (LIBOR)')\n",
    "plt.title('LIBOR Discount Factors')\n",
    "plt.show()"
   ]
  },
  {
   "cell_type": "markdown",
   "metadata": {},
   "source": [
    "Part 1.3"
   ]
  },
  {
   "cell_type": "code",
   "execution_count": 589,
   "metadata": {},
   "outputs": [],
   "source": [
    "t = np.array((1,5,10))\n",
    "T_t = np.array((1,2,3,5,10))"
   ]
  },
  {
   "cell_type": "code",
   "execution_count": 590,
   "metadata": {},
   "outputs": [],
   "source": [
    "# tenor_libor_DF, tenor_ois_DF"
   ]
  },
  {
   "cell_type": "code",
   "execution_count": 591,
   "metadata": {},
   "outputs": [
    {
     "data": {
      "text/plain": [
       "[0.5, 1.0, 2.0, 3.0, 4.0, 5.0, 7.0, 10.0, 15.0, 20.0, 30.0]"
      ]
     },
     "execution_count": 591,
     "metadata": {},
     "output_type": "execute_result"
    }
   ],
   "source": [
    "tenor_list"
   ]
  },
  {
   "cell_type": "code",
   "execution_count": 592,
   "metadata": {},
   "outputs": [],
   "source": [
    "def unpack_nested_list(container, nest_list): \n",
    "    for item in nest_list: \n",
    "        if type(item) == list: \n",
    "            unpack_nested_list(container, item) \n",
    "        else: \n",
    "            container.append(item) "
   ]
  },
  {
   "cell_type": "code",
   "execution_count": 593,
   "metadata": {},
   "outputs": [],
   "source": [
    "def forward_swap_rate(t,\n",
    "                      T_t,\n",
    "                      tenor_libor_DF,\n",
    "                      tenor_ois_DF,\n",
    "                      tenor_list,\n",
    "                      delta = 1):\n",
    "    \n",
    "    T = T_t + t \n",
    "    previous_tenor = 0\n",
    "    \n",
    "    # convert to numpy array for ease of coding\n",
    "    tenor_array = np.array(tenor_list)\n",
    "    tenor_ois_array = np.array(tenor_ois_DF)\n",
    "    tenor_libor_array = np.array(tenor_libor_DF)\n",
    "    \n",
    "    # extract tenors & discount factors that are between t and T\n",
    "    mask = [t <= tenor <= T for tenor in tenor_array] # still need D(0,t) for float leg (float rate calculation)\n",
    "    \n",
    "    if T in tenor_array:\n",
    "        tenors_ = tenor_array[mask]\n",
    "        ois_ = tenor_ois_array[mask]\n",
    "        libor_ = tenor_libor_array[mask]\n",
    "        \n",
    "    else:\n",
    "        # interpolate DF based on previous and next DF for D(0, T) if T is not in tenor list\n",
    "        tenors_ = np.append(tenor_array[mask], T)\n",
    "        next_tenor = tenor_array[[tenor > T for tenor in tenor_array]][0]\n",
    "        previous_tenor = tenor_array[mask][-1]\n",
    "        tenor_gap = T - previous_tenor\n",
    "        \n",
    "        previous_ois_DF = tenor_ois_array[mask][-1]\n",
    "        next_ois_DF = tenor_ois_array[[tenor > T for tenor in tenor_array]][0]\n",
    "        interpolated_oisDF_T = (tenor_gap/(next_tenor-previous_tenor)) * (next_ois_DF - previous_ois_DF) + previous_ois_DF\n",
    "        ois_ = np.append(tenor_ois_array[mask], interpolated_oisDF_T)\n",
    "        \n",
    "        previous_libor_DF = tenor_libor_array[mask][-1]\n",
    "        next_libor_DF = tenor_libor_array[[tenor > T for tenor in tenor_array]][0]\n",
    "        interpolated_liborDF_T = (tenor_gap/(next_tenor-previous_tenor)) * (next_libor_DF - previous_libor_DF) + previous_libor_DF\n",
    "        libor_ = np.append(tenor_libor_array[mask], interpolated_liborDF_T)\n",
    "    \n",
    "    tenor_diff = np.array([tenors_[i+1] - tenors_[i] for i in range(len(tenors_)-1)])\n",
    "    missing_tenors = tenor_diff/delta - 1\n",
    "\n",
    "    # interpolate ois and libor discount factors to put into formula\n",
    "    interp_ois = [interp(ois_[i-1], ois_[i], missing_tenors[i-1]+1) for i in range(1, len(ois_))]\n",
    "    interp_ois_container = []\n",
    "    unpack_nested_list(interp_ois_container, interp_ois)\n",
    "    unpacked_ois = interp_ois_container\n",
    "    if unpacked_ois == None:\n",
    "        ois_list = [ois_[0]]\n",
    "    else:\n",
    "        ois_list = [ois_[0]] + unpacked_ois\n",
    "            \n",
    "    ois_DF = np.array(ois_list) # full ois_DF needed, D(0,t) INCLUSIVE (but not needed)\n",
    "\n",
    "    interp_libor = [interp(libor_[i-1], libor_[i], missing_tenors[i-1]+1) for i in range(1, len(libor_))]\n",
    "    interp_libor_container = []\n",
    "    unpack_nested_list(interp_libor_container, interp_libor)\n",
    "    unpacked_libor = interp_libor_container\n",
    "\n",
    "    if unpacked_libor == None:\n",
    "        libor_list = [libor_[0]]\n",
    "    else:\n",
    "        libor_list = [libor_[0]] + unpacked_libor\n",
    "    \n",
    "    \n",
    "    libor_DF = np.array(libor_list) # full libor DF needed, D(0,t) INCLUSIVE\n",
    "\n",
    "    # f(t, t+1)\n",
    "    float_rates = [(1/delta) * (libor_DF[j]/libor_DF[j+1] - 1) for j in range(len(libor_DF) - 1)]\n",
    "    \n",
    "    # discounting always from D(0, t+1) to D(0, T)\n",
    "    float_leg = np.array([ois_DF[i+1] * (delta * float_rates[i]) for i in range(len(ois_DF)-1)]).sum() #discounting from t+i\n",
    "    fixed_leg_coefficient = delta * np.array(ois_DF[1:]).sum() # exclude D(0,t)\n",
    "\n",
    "    forward_swap_rate = float_leg/fixed_leg_coefficient\n",
    "    \n",
    "    return forward_swap_rate\n",
    "    "
   ]
  },
  {
   "cell_type": "code",
   "execution_count": 594,
   "metadata": {},
   "outputs": [],
   "source": [
    "# test\n",
    "t1 = 5\n",
    "T_t1 = 1"
   ]
  },
  {
   "cell_type": "code",
   "execution_count": 595,
   "metadata": {},
   "outputs": [
    {
     "data": {
      "text/plain": [
       "0.0396601033968349"
      ]
     },
     "execution_count": 595,
     "metadata": {},
     "output_type": "execute_result"
    }
   ],
   "source": [
    "forward_swap_rate(t1, T_t1, tenor_libor_DF, tenor_ois_DF, tenor_list)"
   ]
  },
  {
   "cell_type": "code",
   "execution_count": 596,
   "metadata": {},
   "outputs": [
    {
     "data": {
      "text/plain": [
       "array([[0.03229088, 0.03355019, 0.03430986, 0.03557312, 0.038803  ],\n",
       "       [0.0396601 , 0.04047699, 0.04047429, 0.0415164 , 0.04411307],\n",
       "       [0.04263485, 0.04358135, 0.04458457, 0.04678677, 0.05419083]])"
      ]
     },
     "execution_count": 596,
     "metadata": {},
     "output_type": "execute_result"
    }
   ],
   "source": [
    "forward_swap_rates = np.zeros((len(t), len(T_t)))\n",
    "for i in range(len(t)):\n",
    "    for j in range(len(T_t)):\n",
    "        forward_swap_rates[i][j] = forward_swap_rate(t[i],\n",
    "                                                     T_t[j],\n",
    "                                                     tenor_libor_DF,\n",
    "                                                     tenor_ois_DF,\n",
    "                                                     tenor_list)\n",
    "\n",
    "forward_swap_rates"
   ]
  },
  {
   "cell_type": "code",
   "execution_count": 597,
   "metadata": {},
   "outputs": [],
   "source": [
    "results = pd.DataFrame(forward_swap_rates, index = t, columns = T_t)"
   ]
  },
  {
   "cell_type": "code",
   "execution_count": 598,
   "metadata": {},
   "outputs": [
    {
     "data": {
      "text/html": [
       "<div>\n",
       "<style scoped>\n",
       "    .dataframe tbody tr th:only-of-type {\n",
       "        vertical-align: middle;\n",
       "    }\n",
       "\n",
       "    .dataframe tbody tr th {\n",
       "        vertical-align: top;\n",
       "    }\n",
       "\n",
       "    .dataframe thead th {\n",
       "        text-align: right;\n",
       "    }\n",
       "</style>\n",
       "<table border=\"1\" class=\"dataframe\">\n",
       "  <thead>\n",
       "    <tr style=\"text-align: right;\">\n",
       "      <th></th>\n",
       "      <th>1</th>\n",
       "      <th>2</th>\n",
       "      <th>3</th>\n",
       "      <th>5</th>\n",
       "      <th>10</th>\n",
       "    </tr>\n",
       "  </thead>\n",
       "  <tbody>\n",
       "    <tr>\n",
       "      <th>1</th>\n",
       "      <td>0.032291</td>\n",
       "      <td>0.033550</td>\n",
       "      <td>0.034310</td>\n",
       "      <td>0.035573</td>\n",
       "      <td>0.038803</td>\n",
       "    </tr>\n",
       "    <tr>\n",
       "      <th>5</th>\n",
       "      <td>0.039660</td>\n",
       "      <td>0.040477</td>\n",
       "      <td>0.040474</td>\n",
       "      <td>0.041516</td>\n",
       "      <td>0.044113</td>\n",
       "    </tr>\n",
       "    <tr>\n",
       "      <th>10</th>\n",
       "      <td>0.042635</td>\n",
       "      <td>0.043581</td>\n",
       "      <td>0.044585</td>\n",
       "      <td>0.046787</td>\n",
       "      <td>0.054191</td>\n",
       "    </tr>\n",
       "  </tbody>\n",
       "</table>\n",
       "</div>"
      ],
      "text/plain": [
       "          1         2         3         5         10\n",
       "1   0.032291  0.033550  0.034310  0.035573  0.038803\n",
       "5   0.039660  0.040477  0.040474  0.041516  0.044113\n",
       "10  0.042635  0.043581  0.044585  0.046787  0.054191"
      ]
     },
     "execution_count": 598,
     "metadata": {},
     "output_type": "execute_result"
    }
   ],
   "source": [
    "results"
   ]
  },
  {
   "cell_type": "code",
   "execution_count": null,
   "metadata": {},
   "outputs": [],
   "source": []
  }
 ],
 "metadata": {
  "kernelspec": {
   "display_name": "Python 3",
   "language": "python",
   "name": "python3"
  },
  "language_info": {
   "codemirror_mode": {
    "name": "ipython",
    "version": 3
   },
   "file_extension": ".py",
   "mimetype": "text/x-python",
   "name": "python",
   "nbconvert_exporter": "python",
   "pygments_lexer": "ipython3",
   "version": "3.8.3"
  }
 },
 "nbformat": 4,
 "nbformat_minor": 4
}
