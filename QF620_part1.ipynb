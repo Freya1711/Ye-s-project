{
 "cells": [
  {
   "cell_type": "markdown",
   "metadata": {},
   "source": [
    "# QF620 Project Group 5 Part 1"
   ]
  },
  {
   "cell_type": "code",
   "execution_count": 1,
   "metadata": {},
   "outputs": [],
   "source": [
    "import numpy as np\n",
    "import pandas as pd\n",
    "from scipy.stats import norm\n",
    "import matplotlib.pyplot as plt"
   ]
  },
  {
   "cell_type": "code",
   "execution_count": 2,
   "metadata": {},
   "outputs": [],
   "source": [
    "pd.options.display.max_rows = 999"
   ]
  },
  {
   "cell_type": "markdown",
   "metadata": {},
   "source": [
    "# Part 1 (Analytical Option Formulae)"
   ]
  },
  {
   "cell_type": "markdown",
   "metadata": {},
   "source": [
    "## Black-Scholes Formula"
   ]
  },
  {
   "cell_type": "markdown",
   "metadata": {},
   "source": [
    "Black-Scholes formula (Vanilla Call)\n",
    "\n",
    "\\begin{equation}\n",
    "\\begin{split}\n",
    "C(S_0,K,r,\\sigma,T) &= S_0 \\Phi(d_1) - K e^{-rT} \\Phi(d_2)\\\\\n",
    "\\end{split}            \n",
    "\\end{equation}"
   ]
  },
  {
   "cell_type": "code",
   "execution_count": 3,
   "metadata": {},
   "outputs": [],
   "source": [
    "def BlackScholesCall(S, K, r, sigma, T):\n",
    "    d1 = (np.log(S/K)+(r+sigma**2/2)*T) / (sigma*np.sqrt(T))\n",
    "    d2 = d1 - sigma*np.sqrt(T)\n",
    "    return S*norm.cdf(d1) - K*np.exp(-r*T)*norm.cdf(d2)"
   ]
  },
  {
   "cell_type": "markdown",
   "metadata": {},
   "source": [
    "Black-Scholes formula (Vanilla Put)\n",
    "\n",
    "\\begin{equation}\n",
    "\\begin{split}\n",
    "P(S_0,K,r,\\sigma,T) &= K e^{-rT} \\Phi(-d_2) - S_0 \\Phi(-d_1)\\\\\n",
    "\\end{split}            \n",
    "\\end{equation}"
   ]
  },
  {
   "cell_type": "code",
   "execution_count": 4,
   "metadata": {},
   "outputs": [],
   "source": [
    "def BlackScholesPut(S, K, r, sigma, T):\n",
    "    d1 = (np.log(S/K)+(r+sigma**2/2)*T) / (sigma*np.sqrt(T))\n",
    "    d2 = d1 - sigma*np.sqrt(T)\n",
    "    return K*np.exp(-r*T)*norm.cdf(-d2) - S*norm.cdf(-d1)"
   ]
  },
  {
   "cell_type": "markdown",
   "metadata": {},
   "source": [
    "Black-Scholes formula (digital call - asset-or-nothing)\n",
    "\n",
    "\\begin{equation}\n",
    "\\begin{split}\n",
    "C(S_0,K,r,\\sigma,T) &= S_0 \\Phi(d_1)\\\\\n",
    "\\end{split}            \n",
    "\\end{equation}"
   ]
  },
  {
   "cell_type": "code",
   "execution_count": 5,
   "metadata": {},
   "outputs": [],
   "source": [
    "def BlackScholesCall_Asset(S, K, r, sigma, T):\n",
    "    d1 = (np.log(S/K)+(r+sigma**2/2)*T) / (sigma*np.sqrt(T))\n",
    "    return S*norm.cdf(d1)"
   ]
  },
  {
   "cell_type": "markdown",
   "metadata": {},
   "source": [
    "Black-Scholes formula (digital put - asset-or-nothing)\n",
    "\n",
    "\\begin{equation}\n",
    "\\begin{split}\n",
    "P(S_0,K,r,\\sigma,T) &= S_0 \\Phi(-d_1)\\\\\n",
    "\\end{split}            \n",
    "\\end{equation}"
   ]
  },
  {
   "cell_type": "code",
   "execution_count": 6,
   "metadata": {},
   "outputs": [],
   "source": [
    "def BlackScholesPut_Asset(S, K, r, sigma, T):\n",
    "    d1 = (np.log(S/K)+(r+sigma**2/2)*T) / (sigma*np.sqrt(T))\n",
    "    return S*norm.cdf(-d1)"
   ]
  },
  {
   "cell_type": "markdown",
   "metadata": {},
   "source": [
    "Black-Scholes formula (digital call - cash-or-nothing)\n",
    "\n",
    "\\begin{equation}\n",
    "\\begin{split}\n",
    "C(S_0,K,r,\\sigma,T) &= e^{-rT} \\Phi(d_2)\\\\\n",
    "\\end{split}            \n",
    "\\end{equation}"
   ]
  },
  {
   "cell_type": "code",
   "execution_count": 7,
   "metadata": {},
   "outputs": [],
   "source": [
    "def BlackScholesCall_Cash(S, K, r, sigma, T):\n",
    "    d1 = (np.log(S/K)+(r+sigma**2/2)*T) / (sigma*np.sqrt(T))\n",
    "    d2 = d1 - sigma*np.sqrt(T)\n",
    "    return np.exp(-r*T)*norm.cdf(d2)"
   ]
  },
  {
   "cell_type": "markdown",
   "metadata": {},
   "source": [
    "Black-Scholes formula (digital put - cash-or-nothing)\n",
    "\n",
    "\\begin{equation}\n",
    "\\begin{split}\n",
    "P(S_0,K,r,\\sigma,T) &= e^{-rT} \\Phi(-d_2)\\\\\n",
    "\\end{split}            \n",
    "\\end{equation}"
   ]
  },
  {
   "cell_type": "code",
   "execution_count": 8,
   "metadata": {},
   "outputs": [],
   "source": [
    "def BlackScholesPut_Cash(S, K, r, sigma, T):\n",
    "    d1 = (np.log(S/K)+(r+sigma**2/2)*T) / (sigma*np.sqrt(T))\n",
    "    d2 = d1 - sigma*np.sqrt(T)\n",
    "    return np.exp(-r*T)*norm.cdf(-d2)"
   ]
  },
  {
   "cell_type": "markdown",
   "metadata": {},
   "source": [
    "Where:\n",
    "\\begin{equation}\n",
    "\\begin{split}\n",
    "            d_1 &= \\frac{\\log \\frac{S_0}{K} +\n",
    "            \\left(r+\\frac{\\sigma^2}{2}\\right)T}{\\sigma\\sqrt{T}}, \\hspace{2cm} d_2 = d_1 - \\sigma\\sqrt{T}\\\\\n",
    "\\end{split}            \n",
    "\\end{equation}"
   ]
  },
  {
   "cell_type": "markdown",
   "metadata": {},
   "source": [
    "## Bachelier Model"
   ]
  },
  {
   "cell_type": "markdown",
   "metadata": {},
   "source": [
    "Bachelier formula (Vanilla Call)\n",
    "\n",
    "\\begin{equation}\n",
    "\\begin{split}\n",
    "C(S_0,K,r,\\sigma,T) &= \\big[(S_0 - K) \\Phi(d_1) + \\sigma S_0 \\sqrt{T}\\phi(d_1) \\big]\\\\\n",
    "\\end{split}            \n",
    "\\end{equation}"
   ]
  },
  {
   "cell_type": "code",
   "execution_count": 9,
   "metadata": {},
   "outputs": [],
   "source": [
    "def BachelierCall(S, K, r, sigma, T):\n",
    "    d1 = (S-K)/(sigma*S*np.sqrt(T))\n",
    "    return ((S-K)*norm.cdf(d1) + sigma*S*np.sqrt(T)*norm.pdf(d1))\n"
   ]
  },
  {
   "cell_type": "markdown",
   "metadata": {},
   "source": [
    "Bachelier formula (Vanilla Put)\n",
    "\n",
    "\\begin{equation}\n",
    "\\begin{split}\n",
    "P(S_0,K,r,\\sigma,T) &= \\big[(K - S_0) \\Phi(-d_1) + \\sigma S_0 \\sqrt{T}\\phi(d_1)\\big]\\\\\n",
    "\\end{split}            \n",
    "\\end{equation}"
   ]
  },
  {
   "cell_type": "code",
   "execution_count": 10,
   "metadata": {},
   "outputs": [],
   "source": [
    "def BachelierPut(S, K, r, sigma, T):\n",
    "    d1 = (S-K)/(sigma*S*np.sqrt(T))\n",
    "    return ((K-S)*norm.cdf(-d1) + sigma*S*np.sqrt(T)*norm.pdf(d1))\n"
   ]
  },
  {
   "cell_type": "markdown",
   "metadata": {},
   "source": [
    "Bachelier formula (digital call - asset-or-nothing)\n",
    "\n",
    "\\begin{equation}\n",
    "\\begin{split}\n",
    "C(S_0,K,r,\\sigma,T) &= \\big[(S_0) \\Phi(d_1) + \\sigma S_0 \\sqrt{T}\\phi(d_1)\\big]\\\\\n",
    "\\end{split}            \n",
    "\\end{equation}"
   ]
  },
  {
   "cell_type": "code",
   "execution_count": 11,
   "metadata": {},
   "outputs": [],
   "source": [
    "def BachelierCall_Asset(S, K, r, sigma, T):\n",
    "    d1 = (S-K)/(sigma*S*np.sqrt(T))\n",
    "    return ((S)*norm.cdf(d1) + sigma*S*np.sqrt(T)*norm.pdf(d1))"
   ]
  },
  {
   "cell_type": "markdown",
   "metadata": {},
   "source": [
    "Bachelier formula (digital put - asset-or-nothing)\n",
    "\n",
    "\\begin{equation}\n",
    "\\begin{split}\n",
    "P(S_0,K,r,\\sigma,T) &= \\big[(S_0) \\Phi(-d_1) + \\sigma S_0 \\sqrt{T}\\phi(d_1)\\big]\\\\\n",
    "\\end{split}            \n",
    "\\end{equation}"
   ]
  },
  {
   "cell_type": "code",
   "execution_count": 12,
   "metadata": {},
   "outputs": [],
   "source": [
    "def BachelierPut_Asset(S, K, r, sigma, T):\n",
    "    d1 = (S-K)/(sigma*S*np.sqrt(T))\n",
    "    return ((S)*norm.cdf(-d1) + sigma*S*np.sqrt(T)*norm.pdf(d1))"
   ]
  },
  {
   "cell_type": "markdown",
   "metadata": {},
   "source": [
    "Bachelier formula (digital call - cash-or-nothing)\n",
    "\n",
    "\\begin{equation}\n",
    "\\begin{split}\n",
    "C(S_0,K,r,\\sigma,T) &= \\big[\\Phi(d_1)\\big]\\\\\n",
    "\\end{split}            \n",
    "\\end{equation}"
   ]
  },
  {
   "cell_type": "code",
   "execution_count": 13,
   "metadata": {},
   "outputs": [],
   "source": [
    "def BachelierCall_Cash(S, K, r, sigma, T):\n",
    "    d1 = (S-K)/(sigma*S*np.sqrt(T))\n",
    "    return (norm.cdf(d1))"
   ]
  },
  {
   "cell_type": "markdown",
   "metadata": {},
   "source": [
    "Bachelier formula (digital put - cash-or-nothing)\n",
    "\n",
    "\\begin{equation}\n",
    "\\begin{split}\n",
    "P(S_0,K,r,\\sigma,T) &= \\big[\\Phi(-d_1)\\big]\\\\\n",
    "\\end{split}            \n",
    "\\end{equation}"
   ]
  },
  {
   "cell_type": "code",
   "execution_count": 14,
   "metadata": {},
   "outputs": [],
   "source": [
    "def BachelierPut_Cash(S, K, r, sigma, T):\n",
    "    d1 = (S-K)/(sigma*S*np.sqrt(T))\n",
    "    return (norm.cdf(-d1))"
   ]
  },
  {
   "cell_type": "markdown",
   "metadata": {},
   "source": [
    "Where:\n",
    "\\begin{equation}\n",
    "\\begin{split}\n",
    "            d_1 &= \\frac{S_0 - K}{\\sigma S_0 \\sqrt{T}}\\\\\n",
    "\\end{split}            \n",
    "\\end{equation}"
   ]
  },
  {
   "cell_type": "markdown",
   "metadata": {},
   "source": [
    "## Black76 Model"
   ]
  },
  {
   "cell_type": "markdown",
   "metadata": {},
   "source": [
    "Black76 formula (Vanilla Call)\n",
    "\n",
    "\\begin{equation}\n",
    "\\begin{split}\n",
    "C(F_0,K,r,\\sigma,T) &= e^{-rT}\\big[F_0 \\Phi(d_1) - K \\Phi(d_2)\\big]\\\\\n",
    "\\end{split}            \n",
    "\\end{equation}"
   ]
  },
  {
   "cell_type": "code",
   "execution_count": 15,
   "metadata": {},
   "outputs": [],
   "source": [
    "def Black76Call(F, K, r, sigma, T):\n",
    "    d1 = (np.log(F/K)+(sigma**2/2)*T) / (sigma*np.sqrt(T))\n",
    "    d2 = d1 - sigma*np.sqrt(T)\n",
    "    return np.exp(-r*T)*(F*norm.cdf(d1) - K*norm.cdf(d2))"
   ]
  },
  {
   "cell_type": "markdown",
   "metadata": {},
   "source": [
    "Black76 formula (Vanilla Put)\n",
    "\n",
    "\\begin{equation}\n",
    "\\begin{split}\n",
    "P(F_0,K,r,\\sigma,T) &= e^{-rT}\\big[K \\Phi(-d_2) - F_0 \\Phi(-d_1)\\big]\\\\\n",
    "\\end{split}            \n",
    "\\end{equation}"
   ]
  },
  {
   "cell_type": "code",
   "execution_count": 16,
   "metadata": {},
   "outputs": [],
   "source": [
    "def Black76Put(F, K, r, sigma, T):\n",
    "    d1 = (np.log(F/K)+(sigma**2/2)*T) / (sigma*np.sqrt(T))\n",
    "    d2 = d1 - sigma*np.sqrt(T)\n",
    "    return np.exp(-r*T)*(K*norm.cdf(-d2) - F*norm.cdf(-d1))"
   ]
  },
  {
   "cell_type": "markdown",
   "metadata": {},
   "source": [
    "Black76 formula (digital call - asset-or-nothing)\n",
    "\n",
    "\\begin{equation}\n",
    "\\begin{split}\n",
    "C(F_0,K,r,\\sigma,T) &= e^{-rT}\\big[F_0 \\Phi(d_1)\\big]\\\\\n",
    "\\end{split}            \n",
    "\\end{equation}"
   ]
  },
  {
   "cell_type": "code",
   "execution_count": 17,
   "metadata": {},
   "outputs": [],
   "source": [
    "def Black76Call_Asset(F, K, r, sigma, T):\n",
    "    d1 = (np.log(F/K)+(sigma**2/2)*T) / (sigma*np.sqrt(T))\n",
    "    return np.exp(-r*T)*(F*norm.cdf(d1))"
   ]
  },
  {
   "cell_type": "markdown",
   "metadata": {},
   "source": [
    "Black76 formula (digital put - asset-or-nothing)\n",
    "\n",
    "\\begin{equation}\n",
    "\\begin{split}\n",
    "P(F_0,K,r,\\sigma,T) &= e^{-rT}\\big[F_0 \\Phi(-d_1)\\big]\\\\\n",
    "\\end{split}            \n",
    "\\end{equation}"
   ]
  },
  {
   "cell_type": "code",
   "execution_count": 18,
   "metadata": {},
   "outputs": [],
   "source": [
    "def Black76Put_Asset(F, K, r, sigma, T):\n",
    "    d1 = (np.log(F/K)+(sigma**2/2)*T) / (sigma*np.sqrt(T))\n",
    "    return np.exp(-r*T)*(F*norm.cdf(-d1))"
   ]
  },
  {
   "cell_type": "markdown",
   "metadata": {},
   "source": [
    "Black76 formula (digital call - cash-or-nothing)\n",
    "\n",
    "\\begin{equation}\n",
    "\\begin{split}\n",
    "C(F_0,K,r,\\sigma,T) &= e^{-rT}\\big[\\Phi(d_2)\\big]\\\\\n",
    "\\end{split}            \n",
    "\\end{equation}"
   ]
  },
  {
   "cell_type": "code",
   "execution_count": 19,
   "metadata": {},
   "outputs": [],
   "source": [
    "def Black76Call_Cash(F, K, r, sigma, T):\n",
    "    d1 = (np.log(F/K)+(sigma**2/2)*T) / (sigma*np.sqrt(T))\n",
    "    d2 = d1 - sigma*np.sqrt(T)\n",
    "    return np.exp(-r*T)*(norm.cdf(d2))"
   ]
  },
  {
   "cell_type": "markdown",
   "metadata": {},
   "source": [
    "Black76 formula (digital put - cash-or-nothing)\n",
    "\n",
    "\\begin{equation}\n",
    "\\begin{split}\n",
    "P(F_0,K,r,\\sigma,T) &= e^{-rT}\\big[\\Phi(-d_2)\\big]\\\\\n",
    "\\end{split}            \n",
    "\\end{equation}"
   ]
  },
  {
   "cell_type": "code",
   "execution_count": 20,
   "metadata": {},
   "outputs": [],
   "source": [
    "def Black76Put_Cash(F, K, r, sigma, T):\n",
    "    d1 = (np.log(F/K)+(sigma**2/2)*T) / (sigma*np.sqrt(T))\n",
    "    d2 = d1 - sigma*np.sqrt(T)\n",
    "    return np.exp(-r*T)*(norm.cdf(-d2))"
   ]
  },
  {
   "cell_type": "markdown",
   "metadata": {},
   "source": [
    "Where:\n",
    "\\begin{equation}\n",
    "\\begin{split}\n",
    "            d_1 &= \\frac{\\log \\frac{F_0}{K} +\n",
    "            \\left(\\frac{\\sigma^2}{2}\\right)T}{\\sigma\\sqrt{T}}, \\hspace{2cm} d_2 = d_1 - \\sigma\\sqrt{T}\\\\\n",
    "\\end{split}            \n",
    "\\end{equation}"
   ]
  },
  {
   "cell_type": "markdown",
   "metadata": {},
   "source": [
    "## Displaced-Diffusion Model"
   ]
  },
  {
   "cell_type": "markdown",
   "metadata": {},
   "source": [
    "Displaced-Diffusion formula (Vanilla Call)\n",
    "\n",
    "\\begin{equation}\n",
    "\\begin{split}\n",
    "C(F_0,K,r,\\sigma,T,\\beta) &= e^{-rT}\\bigg[\\frac{F_0}{\\beta} \\Phi(d_1) - \\bigg(K + \\frac{1 - \\beta}{\\beta} F_0 \\bigg) \\Phi(d_2)\\bigg]\\\\\n",
    "\\end{split}            \n",
    "\\end{equation}"
   ]
  },
  {
   "cell_type": "code",
   "execution_count": 21,
   "metadata": {},
   "outputs": [],
   "source": [
    "def DisplacedDiffusionCall(F, K, r, sigma, T, beta):\n",
    "    \n",
    "    d1 = (np.log((F/beta)/(K+(1-beta)/beta*F))+((sigma**2)*(beta**2)/2)*T) / (sigma*beta*np.sqrt(T))\n",
    "    d2 = d1 - sigma*beta*np.sqrt(T)\n",
    "    return np.exp(-r*T) * ((F/beta)*norm.cdf(d1) - (K + (1-beta)/beta*F)*norm.cdf(d2))\n"
   ]
  },
  {
   "cell_type": "markdown",
   "metadata": {},
   "source": [
    "Displaced-Diffusion formula (Vanilla Put)\n",
    "\n",
    "\\begin{equation}\n",
    "\\begin{split}\n",
    "P(F_0,K,r,\\sigma,T,\\beta) &= e^{-rT}\\bigg[\\bigg(K + \\frac{1 - \\beta}{\\beta} F_0 \\bigg) \\Phi(-d_2) - \\frac{F_0}{\\beta} \\Phi(-d_1)\\bigg]\\\\\n",
    "\\end{split}            \n",
    "\\end{equation}"
   ]
  },
  {
   "cell_type": "code",
   "execution_count": 22,
   "metadata": {},
   "outputs": [],
   "source": [
    "def DisplacedDiffusionPut(F, K, r, sigma, T, beta):\n",
    "    d1 = (np.log((F/beta)/(K+(1-beta)/beta*F))+((sigma**2)*(beta**2)/2)*T) / (sigma*beta*np.sqrt(T))\n",
    "    d2 = d1 - sigma*beta*np.sqrt(T)\n",
    "    return np.exp(-r*T) * ((K + (1-beta)/beta*F)*norm.cdf(-d2) - (F/beta)*norm.cdf(-d1))\n"
   ]
  },
  {
   "cell_type": "markdown",
   "metadata": {},
   "source": [
    "Displaced-Diffusion formula (digital call - asset-or-nothing)\n",
    "\n",
    "\\begin{equation}\n",
    "\\begin{split}\n",
    "C(F_0,K,r,\\sigma,T,\\beta) &= e^{-rT}\\bigg[\\frac{F_0}{\\beta} \\Phi(d_1)\\bigg]\\\\\n",
    "\\end{split}            \n",
    "\\end{equation}"
   ]
  },
  {
   "cell_type": "code",
   "execution_count": 23,
   "metadata": {},
   "outputs": [],
   "source": [
    "def DisplacedDiffusionCall_Asset(F, K, r, sigma, T, beta):\n",
    "    d1 = (np.log((F/beta)/(K+(1-beta)/beta*F))+((sigma**2)*(beta**2)/2)*T) / (sigma*beta*np.sqrt(T))\n",
    "    return np.exp(-r*T)*((F/beta)*norm.cdf(d1))"
   ]
  },
  {
   "cell_type": "markdown",
   "metadata": {},
   "source": [
    "Displaced-Diffusion formula (digital put - asset-or-nothing)\n",
    "\n",
    "\\begin{equation}\n",
    "\\begin{split}\n",
    "P(F_0,K,r,\\sigma,T,\\beta) &= e^{-rT}\\bigg[\\frac{F_0}{\\beta} \\Phi(-d_1)\\bigg]\\\\\n",
    "\\end{split}            \n",
    "\\end{equation}"
   ]
  },
  {
   "cell_type": "code",
   "execution_count": 24,
   "metadata": {},
   "outputs": [],
   "source": [
    "def DisplacedDiffusionPut_Asset(F, K, r, sigma, T, beta):\n",
    "    d1 = (np.log((F/beta)/(K+(1-beta)/beta*F))+((sigma**2)*(beta**2)/2)*T) / (sigma*beta*np.sqrt(T))\n",
    "    return np.exp(-r*T)*((F/beta)*norm.cdf(-d1))"
   ]
  },
  {
   "cell_type": "markdown",
   "metadata": {},
   "source": [
    "Displaced-Diffusion formula (digital call - cash-or-nothing)\n",
    "\n",
    "\\begin{equation}\n",
    "\\begin{split}\n",
    "C(F_0,K,r,\\sigma,T,\\beta) &= e^{-rT}\\big[\\Phi(d_2)\\big]\\\\\n",
    "\\end{split}            \n",
    "\\end{equation}"
   ]
  },
  {
   "cell_type": "code",
   "execution_count": 25,
   "metadata": {},
   "outputs": [],
   "source": [
    "def DisplacedDiffusionCall_Cash(F, K, r, sigma, T, beta):\n",
    "    d1 = (np.log((F/beta)/(K+(1-beta)/beta*F))+((sigma**2)*(beta**2)/2)*T) / (sigma*beta*np.sqrt(T))\n",
    "    d2 = d1 - sigma*beta*np.sqrt(T)\n",
    "    return np.exp(-r*T)*(norm.cdf(d2))"
   ]
  },
  {
   "cell_type": "markdown",
   "metadata": {},
   "source": [
    "Displaced-Diffusion formula (digital put - cash-or-nothing)\n",
    "\n",
    "\\begin{equation}\n",
    "\\begin{split}\n",
    "P(F_0,K,r,\\sigma,T,\\beta) &= e^{-rT}\\big[\\Phi(-d_2)\\big]\\\\\n",
    "\\end{split}            \n",
    "\\end{equation}"
   ]
  },
  {
   "cell_type": "code",
   "execution_count": 26,
   "metadata": {},
   "outputs": [],
   "source": [
    "def DisplacedDiffusionPut_Cash(F, K, r, sigma, T, beta):\n",
    "    d1 = (np.log((F/beta)/(K+(1-beta)/beta*F))+((sigma**2)*(beta**2)/2)*T) / (sigma*beta*np.sqrt(T))\n",
    "    d2 = d1 - sigma*beta*np.sqrt(T)\n",
    "    return np.exp(-r*T)*(norm.cdf(-d2))"
   ]
  },
  {
   "cell_type": "markdown",
   "metadata": {},
   "source": [
    "Where:\n",
    "\\begin{equation}\n",
    "\\begin{split}\n",
    "            d_1 &= \\frac{\\log \\frac{\\frac{F_0}{\\beta}}{K+\\frac{1-\\beta}{\\beta}F_0} +\n",
    "            \\left(\\frac{\\sigma^2 \\beta^2}{2}\\right)T}{\\sigma\\beta\\sqrt{T}}, \\hspace{2cm} d_2 = d_1 - \\sigma\\sqrt{T}\\\\\n",
    "\\end{split}            \n",
    "\\end{equation}"
   ]
  },
  {
   "cell_type": "code",
   "execution_count": 27,
   "metadata": {},
   "outputs": [],
   "source": [
    "def options_prices(S = None,\n",
    "                   F = None,\n",
    "                   K = None,\n",
    "                   r = None,\n",
    "                   sigma = None,\n",
    "                   T = None,\n",
    "                   beta = None):\n",
    "    print('Black-Scholes:')\n",
    "    print('  Vanilla Call: %.4f' % (BlackScholesCall(S,K,r,sigma,T)))\n",
    "    print('  Vanilla Put: %.4f' % (BlackScholesPut(S,K,r,sigma,T)))\n",
    "    print('  Digital Call(asset-or-nothing): %.4f' % (BlackScholesCall_Asset(S,K,r,sigma,T)))\n",
    "    print('  Digital Put(asset-or-nothing): %.4f' % (BlackScholesPut_Asset(S,K,r,sigma,T)))\n",
    "    print('  Digital Call(cash-or-nothing): %.4f' % (BlackScholesCall_Cash(S,K,r,sigma,T)))\n",
    "    print('  Digital Put(cash-or-nothing): %.4f' % (BlackScholesPut_Cash(S,K,r,sigma,T)))\n",
    "    \n",
    "    print('Bachelier:')\n",
    "    print('  Vanilla Call: %.4f' % (BachelierCall(S,K,r,sigma,T)))\n",
    "    print('  Vanilla Put: %.4f' % (BachelierPut(S,K,r,sigma,T)))\n",
    "    print('  Digital Call(asset-or-nothing): %.4f' % (BachelierCall_Asset(S,K,r,sigma,T)))\n",
    "    print('  Digital Put(asset-or-nothing): %.4f' % (BachelierPut_Asset(S,K,r,sigma,T)))\n",
    "    print('  Digital Call(cash-or-nothing): %.4f' % (BachelierCall_Cash(S,K,r,sigma,T)))\n",
    "    print('  Digital Put(cash-or-nothing): %.4f' % (BachelierPut_Cash(S,K,r,sigma,T))) \n",
    "    \n",
    "    print('Black76:')\n",
    "    print('  Vanilla Call: %.4f' % (Black76Call(F,K,r,sigma,T)))\n",
    "    print('  Vanilla Put: %.4f' % (Black76Put(F,K,r,sigma,T)))\n",
    "    print('  Digital Call(asset-or-nothing): %.4f' % (Black76Call_Asset(F,K,r,sigma,T)))\n",
    "    print('  Digital Put(asset-or-nothing): %.4f' % (Black76Put_Asset(F,K,r,sigma,T)))\n",
    "    print('  Digital Call(cash-or-nothing): %.4f' % (Black76Call_Cash(F,K,r,sigma,T)))\n",
    "    print('  Digital Put(cash-or-nothing): %.4f' % (Black76Put_Cash(F,K,r,sigma,T))) \n",
    "    \n",
    "    print('Displaced-Diffusion:')\n",
    "    print('  Vanilla Call: %.4f' % (DisplacedDiffusionCall(F,K,r,sigma,T,beta)))\n",
    "    print('  Vanilla Put: %.4f' % (DisplacedDiffusionPut(F,K,r,sigma,T,beta)))\n",
    "    print('  Digital Call(asset-or-nothing): %.4f' % (DisplacedDiffusionCall_Asset(F,K,r,sigma,T,beta)))\n",
    "    print('  Digital Put(asset-or-nothing): %.4f' % (DisplacedDiffusionPut_Asset(F,K,r,sigma,T,beta)))\n",
    "    print('  Digital Call(cash-or-nothing): %.4f' % (DisplacedDiffusionCall_Cash(F,K,r,sigma,T,beta)))\n",
    "    print('  Digital Put(cash-or-nothing): %.4f' % (DisplacedDiffusionPut_Cash(F,K,r,sigma,T,beta))) \n"
   ]
  },
  {
   "cell_type": "code",
   "execution_count": 28,
   "metadata": {
    "scrolled": false
   },
   "outputs": [
    {
     "name": "stdout",
     "output_type": "stream",
     "text": [
      "Black-Scholes:\n",
      "  Vanilla Call: 22.2703\n",
      "  Vanilla Put: 22.2703\n",
      "  Digital Call(asset-or-nothing): 61.1351\n",
      "  Digital Put(asset-or-nothing): 38.8649\n",
      "  Digital Call(cash-or-nothing): 0.3517\n",
      "  Digital Put(cash-or-nothing): 0.5532\n",
      "Bachelier:\n",
      "  Vanilla Call: 17.6979\n",
      "  Vanilla Put: 28.2150\n",
      "  Digital Call(asset-or-nothing): 64.8064\n",
      "  Digital Put(asset-or-nothing): 79.5554\n",
      "  Digital Call(cash-or-nothing): 0.4263\n",
      "  Digital Put(cash-or-nothing): 0.5737\n",
      "Black76:\n",
      "  Vanilla Call: 22.2703\n",
      "  Vanilla Put: 22.2703\n",
      "  Digital Call(asset-or-nothing): 61.1351\n",
      "  Digital Put(asset-or-nothing): 38.8649\n",
      "  Digital Call(cash-or-nothing): 0.3517\n",
      "  Digital Put(cash-or-nothing): 0.5532\n",
      "Displaced-Diffusion:\n",
      "  Vanilla Call: 22.4926\n",
      "  Vanilla Put: 22.4926\n",
      "  Digital Call(asset-or-nothing): 111.2463\n",
      "  Digital Put(asset-or-nothing): 88.7537\n",
      "  Digital Call(cash-or-nothing): 0.4015\n",
      "  Digital Put(cash-or-nothing): 0.5033\n"
     ]
    }
   ],
   "source": [
    "S = 100\n",
    "r = 0.05\n",
    "T = 2\n",
    "F = S*np.exp(r*T)\n",
    "sigma = 0.4\n",
    "beta = 0.5\n",
    "K = F\n",
    "\n",
    "options_prices(S = S,\n",
    "               F = F,\n",
    "               r = r,\n",
    "               K = K,\n",
    "               sigma = sigma,\n",
    "               T = T,\n",
    "               beta = beta)"
   ]
  },
  {
   "cell_type": "code",
   "execution_count": 29,
   "metadata": {},
   "outputs": [
    {
     "name": "stdout",
     "output_type": "stream",
     "text": [
      "22.492583203656977\n",
      "22.492583203656977\n"
     ]
    }
   ],
   "source": [
    "print(Black76Call(F = F/beta, K = (K + (1-beta)/beta*F),\n",
    "                      sigma = sigma*beta, T = T, r = r))\n",
    "print(DisplacedDiffusionCall(F = F, K = K, sigma = sigma, r = r,\n",
    "                             T = T, beta = beta))\n"
   ]
  }
 ],
 "metadata": {
  "kernelspec": {
   "display_name": "Python 3",
   "language": "python",
   "name": "python3"
  },
  "language_info": {
   "codemirror_mode": {
    "name": "ipython",
    "version": 3
   },
   "file_extension": ".py",
   "mimetype": "text/x-python",
   "name": "python",
   "nbconvert_exporter": "python",
   "pygments_lexer": "ipython3",
   "version": "3.8.3"
  }
 },
 "nbformat": 4,
 "nbformat_minor": 4
}
